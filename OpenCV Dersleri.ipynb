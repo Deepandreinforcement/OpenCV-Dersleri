{
 "cells": [
  {
   "cell_type": "markdown",
   "metadata": {},
   "source": [
    "# Ders 1 Temel Komutlar"
   ]
  },
  {
   "cell_type": "code",
   "execution_count": 1,
   "metadata": {},
   "outputs": [
    {
     "name": "stdout",
     "output_type": "stream",
     "text": [
      "Resmin türü:  <class 'numpy.ndarray'>\n",
      "Resimdeki eleman sayısı: 1125000\n",
      "Resimdeki elemanların türü:  uint8\n",
      "Resmin boyutu:  (500, 750, 3)\n"
     ]
    }
   ],
   "source": [
    "import cv2 # kütüphaneyi yükledik\n",
    "import numpy as np # yardımcı kütüphane\n",
    "image=cv2.imread('ankara.jpg')#resmi yükledik\n",
    "print('Resmin türü: ', type(image)) # değişkenin yani resmin türü\n",
    "print('Resimdeki eleman sayısı:', image.size) \n",
    "print('Resimdeki elemanların türü: ',image.dtype) \n",
    "print('Resmin boyutu: ',image.shape)\n",
    "cv2.imshow('Fotograf',image)  # resmi ekranda gösterik. İlk parametre açılan pencereye verilen ad \n",
    "\n",
    "# Bu alttaki iki satır tüm kodlarda olmalı. Tabi videolarda daha farklı oluyor.\n",
    "cv2.waitKey(0) #klavyeden tuşa basılıp basılmadğına bakar\n",
    "cv2.destroyAllWindows() # tüm pencereleri kapatır"
   ]
  },
  {
   "cell_type": "code",
   "execution_count": 2,
   "metadata": {},
   "outputs": [],
   "source": [
    "image=cv2.imread('ankara.jpg')\n",
    "cv2.imshow('Fotograf',image)  \n",
    "cv2.waitKey(0)  \n",
    "cv2.destroyAllWindows() "
   ]
  },
  {
   "cell_type": "code",
   "execution_count": 3,
   "metadata": {},
   "outputs": [],
   "source": [
    "\n",
    "image=cv2.imread('ankara.jpg',0) # resmi gri şekilde yükler\n",
    "cv2.imshow('Fotograf',image) \n",
    "# Bu komut ile resmi dosya olarak kaydediyoruz\n",
    "cv2.imwrite('gri.jpg',image) # resmi gri.jpg olarak kaydettik. Uzantası .jpg\n",
    "cv2.waitKey(0) \n",
    "cv2.destroyAllWindows() "
   ]
  },
  {
   "cell_type": "code",
   "execution_count": 4,
   "metadata": {},
   "outputs": [
    {
     "data": {
      "text/plain": [
       "'4.7.0'"
      ]
     },
     "execution_count": 4,
     "metadata": {},
     "output_type": "execute_result"
    }
   ],
   "source": [
    "cv2.__version__ #Kütüphanenin sürümü"
   ]
  },
  {
   "cell_type": "markdown",
   "metadata": {},
   "source": [
    "# Ders 2 BGR Uzayı"
   ]
  },
  {
   "cell_type": "markdown",
   "metadata": {},
   "source": [
    "Opencv'de görüntüler BGR uzayı ile ifade edilir.Yani resimdeki her bir pikselin 3 tane değeri vardır. Bunlardan B olan blue yani mavi, G olan Green yani yeşil ve R olan Red yani kırmızı rengi ifade eder. Bu değerler 0 ile 255 arasındadır. Örneğin bir pikselin B değeri 255 G değeri 0 R değeri 0 olsun. Bu durumda bu piksel mavi renginde gözükecektir. \n",
    "\n",
    "Ayrıca resim bu yüzden 3 kanallıdır. Gri resimler ise BGR uzayında değildir. Orada tek bir kanal vardır. Yani her bir pikselin tek bir değeri vardır. \n",
    "Resimlerde her bir kanal da 0 değerine sahipse o zaman renk siyah olur. Üçü de 255 değerine sahipse o zaman renk beyaz olur"
   ]
  },
  {
   "cell_type": "code",
   "execution_count": 5,
   "metadata": {},
   "outputs": [],
   "source": [
    "image=cv2.imread('color.png')\n",
    "b,g,r=cv2.split(image) # Resmi 3'e ayırdık. Birinci mavi kanalı ikinci yeşil kanalı üçüncü kırmızı kanalı alıyor resimdeki\n",
    "\n",
    "\n",
    "#Sarı renk yeşil ile kırmızının birleşiminden oluşur.\n",
    "#O yüzden resimde sarı rengin olduğu yerde mavi kanal 0 yeşil ve kırmızı kanal 255 değerine sahip\n",
    "cv2.imshow('Mavi ',b)  # resmin mavi kanalını gösteriyoruz\n",
    "cv2.imshow('Yesil',g) # resmin yeşil kanalını gösteriyoruz\n",
    "cv2.imshow('Kirmizi',r) #  resmin kırmızı kanalını gösteriyoruz. \n",
    "yeni=cv2.merge((b,g,r)) # Ayrılan kanalları birleştirdik.\n",
    "cv2.imshow('Fotograf',yeni)\n",
    "cv2.waitKey(0) \n",
    "cv2.destroyAllWindows()"
   ]
  },
  {
   "cell_type": "code",
   "execution_count": 6,
   "metadata": {},
   "outputs": [],
   "source": [
    "image=cv2.imread('ankara.jpg')\n",
    "image[:,:,0]=255 # Resmin mavi kanalını 255 yaptık.\n",
    "cv2.imshow('Fotograf',image)  \n",
    "cv2.waitKey(0)  \n",
    "cv2.destroyAllWindows() "
   ]
  },
  {
   "cell_type": "markdown",
   "metadata": {},
   "source": [
    "# Ders 3 Resimde Bölgesel İşlemler"
   ]
  },
  {
   "cell_type": "code",
   "execution_count": 7,
   "metadata": {},
   "outputs": [
    {
     "name": "stdout",
     "output_type": "stream",
     "text": [
      "[147 135 187]\n"
     ]
    }
   ],
   "source": [
    "image=cv2.imread('ankara.jpg')\n",
    "print(image[50,50]) # Resmin 50'ye 50. pikselinin BGR değerleri"
   ]
  },
  {
   "cell_type": "code",
   "execution_count": 9,
   "metadata": {},
   "outputs": [],
   "source": [
    "image=cv2.imread('ankara.jpg')\n",
    "image[50,50]=[0,255,255] # Resmin 50'ye 50. pikselinin BGR değerlerini 0,255,255 yani sarı yaptık.\n",
    "cv2.imshow('Fotograf',image)  \n",
    "cv2.waitKey(0)  \n",
    "cv2.destroyAllWindows() "
   ]
  },
  {
   "cell_type": "code",
   "execution_count": 10,
   "metadata": {},
   "outputs": [],
   "source": [
    "image=cv2.imread('ankara.jpg')\n",
    "image[0:100,300:500]=[0,255,255] #Burada bir bölge seçip orayı sarı yaptık. \n",
    "#Burada ilk iki değer dikey kısmı diğer iki değer ise yatay kısmı belirliyor.\n",
    "cv2.imshow('Fotograf',image)  \n",
    "cv2.waitKey(0)  \n",
    "cv2.destroyAllWindows() "
   ]
  },
  {
   "cell_type": "code",
   "execution_count": 11,
   "metadata": {},
   "outputs": [],
   "source": [
    "image=cv2.imread('ankara.jpg')\n",
    "#Resmi yatay olarak çevirdik\n",
    "flipped_image = cv2.flip(image, 1)\n",
    "cv2.imshow('Fotograf',image) \n",
    "cv2.imshow('flipped_image',flipped_image)  \n",
    "cv2.waitKey(0)  \n",
    "cv2.destroyAllWindows() "
   ]
  },
  {
   "cell_type": "code",
   "execution_count": 12,
   "metadata": {},
   "outputs": [],
   "source": [
    "image=cv2.imread('ankara.jpg')\n",
    "#Resmi dikey olarak çevirdik\n",
    "flipped_image = cv2.flip(image, 0)\n",
    "cv2.imshow('Fotograf',image) \n",
    "cv2.imshow('flipped_image',flipped_image)  \n",
    "cv2.waitKey(0)  \n",
    "cv2.destroyAllWindows() "
   ]
  },
  {
   "cell_type": "markdown",
   "metadata": {},
   "source": [
    "# Ders 4 Resmi Genişletme İşlemleri"
   ]
  },
  {
   "cell_type": "code",
   "execution_count": 13,
   "metadata": {},
   "outputs": [],
   "source": [
    "image=cv2.imread('ankara.jpg')\n",
    "yeni=cv2.copyMakeBorder(image,100,100,100,100,cv2.BORDER_REPLICATE) \n",
    "# bu şekilde resmi her taraftan 100 piklsel genişliğinde uzattık. Değerler sırayla üst, alt sol ve sağ için\n",
    "cv2.imshow('Fotograf',image) \n",
    "cv2.imshow('Yeni',yeni)  \n",
    "cv2.waitKey(0)  \n",
    "cv2.destroyAllWindows() "
   ]
  },
  {
   "cell_type": "code",
   "execution_count": 14,
   "metadata": {},
   "outputs": [],
   "source": [
    "image=cv2.imread('ankara.jpg')\n",
    "ayna=cv2.copyMakeBorder(image,100,100,100,100,cv2.BORDER_REFLECT) # aynalama yaparak genişletir.\n",
    "kopya=cv2.copyMakeBorder(image,100,100,100,100,cv2.BORDER_WRAP) # koplayama yaparak genişletir\n",
    "siyah=cv2.copyMakeBorder(image,100,100,100,100,cv2.BORDER_CONSTANT) # genişleyen kısımlara siyah renk atar\n",
    "mavi=cv2.copyMakeBorder(image,100,100,100,100,cv2.BORDER_CONSTANT,value=[255,0,0]) # genişleyen kısımlara mavi renk atar\n",
    "cv2.imshow('Ayna',ayna) \n",
    "cv2.imshow('Kopya',kopya) \n",
    "cv2.imshow('Siyah',siyah) \n",
    "cv2.imshow('Mavi',mavi)  \n",
    "cv2.waitKey(0)  \n",
    "cv2.destroyAllWindows() "
   ]
  },
  {
   "cell_type": "markdown",
   "metadata": {},
   "source": [
    "# Ders 5 Resme Şekil Çizdirme"
   ]
  },
  {
   "cell_type": "code",
   "execution_count": 15,
   "metadata": {},
   "outputs": [],
   "source": [
    "image=cv2.imread('old.jpg')\n",
    "cv2.rectangle(image,(150,150,),(500,350),[0,255,255],2) # resime dikdörtgen çizdirdik\n",
    "# 150,150 sol üst köşe 500,350 sağ alt köşe. Renk değeri sarı, kalınlığı da 2\n",
    "cv2.imshow('Fotograf',image)  \n",
    "cv2.waitKey(0)  \n",
    "cv2.destroyAllWindows() "
   ]
  },
  {
   "cell_type": "code",
   "execution_count": 16,
   "metadata": {},
   "outputs": [],
   "source": [
    "image=cv2.imread('old.jpg')\n",
    "cv2.line(image,(150,150,),(500,350),[255,0,0],3) # resime çizgi çizdirdik\n",
    "# 150,150 başlangıç 500,350 bitiş noktası. Renk değeri mavi, kalınlığı da 3\n",
    "cv2.imshow('Fotograf',image)  \n",
    "cv2.waitKey(0)  \n",
    "cv2.destroyAllWindows() "
   ]
  },
  {
   "cell_type": "code",
   "execution_count": 17,
   "metadata": {},
   "outputs": [],
   "source": [
    "image=cv2.imread('old.jpg')\n",
    "cv2.circle(image,(200,200,),100,[255,255,0],3) # resime çember çizdirdik\n",
    "# 200,200 çember merkezi. Yarıçapı 100. Renk değeri cyan, kalınlığı da 3\n",
    "cv2.imshow('Fotograf',image)  \n",
    "cv2.waitKey(0)  \n",
    "cv2.destroyAllWindows() "
   ]
  },
  {
   "cell_type": "code",
   "execution_count": 18,
   "metadata": {},
   "outputs": [],
   "source": [
    "image=cv2.imread('old.jpg')\n",
    "cv2.circle(image,(200,200,),100,[255,255,0],cv2.FILLED) # resime daire çizdirdik\n",
    "# 200,200 çember merkezi. Yarıçapı 100. Renk değeri cyan, \n",
    "cv2.imshow('Fotograf',image)  \n",
    "cv2.waitKey(0)  \n",
    "cv2.destroyAllWindows() "
   ]
  },
  {
   "cell_type": "code",
   "execution_count": 19,
   "metadata": {},
   "outputs": [],
   "source": [
    "image=cv2.imread('old.jpg')\n",
    "cv2.putText(image,'Ronaldo',(200,200),cv2.FONT_HERSHEY_SIMPLEX, 2,[0,255,255],3) # resime yazı yazdırdık\n",
    "# Yazı olarak Ronaldo yazdırdık. 200,200 yazının başlangıç noktası. Yanındaki değer font değeri. \n",
    "# 2 değeri yazının büyüklüğü, 3 değeri yazının kalınlığı, Yazının rengi sarı\n",
    "cv2.imshow('Fotograf',image)  \n",
    "cv2.waitKey(0)  \n",
    "cv2.destroyAllWindows() "
   ]
  },
  {
   "cell_type": "code",
   "execution_count": 20,
   "metadata": {},
   "outputs": [],
   "source": [
    "image=cv2.imread('old.jpg')\n",
    "pts = np.array([[25, 70], [25, 160],\n",
    "                [110, 200], [200, 160],\n",
    "                [200, 70], [110, 20]],)\n",
    "\n",
    "cv2.polylines(image, [pts],False, [0,255,255], 3) # resme çoklu çizgi çizdirdik\n",
    "#pts koordinat noktaları çizgilerin. False değeri şeklin kapanmayacağını ifade ediyor. True olursa şekil kapalı olur.\n",
    "# rengi sarı kalınlığı 3\n",
    "cv2.imshow('Fotograf',image)  \n",
    "cv2.waitKey(0)  \n",
    "cv2.destroyAllWindows() "
   ]
  },
  {
   "cell_type": "code",
   "execution_count": 21,
   "metadata": {},
   "outputs": [
    {
     "name": "stdout",
     "output_type": "stream",
     "text": [
      "1.0\n"
     ]
    }
   ],
   "source": [
    "image=cv2.imread('old.jpg')\n",
    "pts = np.array([[25, 70], [25, 160],\n",
    "                [110, 200], [200, 160],\n",
    "                [200, 70], [110, 20]],)\n",
    "\n",
    "cv2.polylines(image, [pts],True, [0,255,255], 3) \n",
    "\n",
    "point=(150,150)  # Bir nokta belirledik resimde \n",
    "result = cv2.pointPolygonTest(pts, point, False) # Noktanın bölge içinde olup olmadığını kontrol ettik\n",
    "            \n",
    "print(result)  # eğer nokta bölgenin içinde ise bu değişkenin değeri 1.0 tam üstündeyse 0.0 dışındaysa -1.0 olacaktır\n",
    "cv2.circle(image, point, 5, (255,0,255), -1)\n",
    "cv2.imshow('Fotograf',image)  \n",
    "cv2.waitKey(0)  \n",
    "cv2.destroyAllWindows() "
   ]
  },
  {
   "cell_type": "code",
   "execution_count": 22,
   "metadata": {},
   "outputs": [],
   "source": [
    "image=cv2.imread('old.jpg')\n",
    "pts = np.array([[25, 70], [25, 160],\n",
    "                [110, 200], [200, 160],\n",
    "                [200, 70], [110, 20]],)\n",
    "\n",
    "cv2.fillPoly(image, [pts], [0,255,255])  # Buradak alanı bir renk ile doldurudk\n",
    "cv2.imshow('Fotograf',image)  \n",
    "cv2.waitKey(0)  \n",
    "cv2.destroyAllWindows() "
   ]
  },
  {
   "cell_type": "markdown",
   "metadata": {},
   "source": [
    "# Ders 6 Numpy İle Resim Oluşturma"
   ]
  },
  {
   "cell_type": "code",
   "execution_count": 23,
   "metadata": {},
   "outputs": [],
   "source": [
    "image=np.zeros((500,500,3),dtype=\"uint8\") #500*500 boyutunda siyah bir resim oluşturduk\n",
    "\n",
    "\n",
    "cv2.imshow('Fotograf',image)  \n",
    "cv2.waitKey(0)  \n",
    "cv2.destroyAllWindows() "
   ]
  },
  {
   "cell_type": "code",
   "execution_count": 24,
   "metadata": {},
   "outputs": [],
   "source": [
    "image=np.zeros((500,500,3),dtype=\"uint8\") #500*500 boyutunda siyah bir resim oluşturduk\n",
    "image.fill(255) # resimdeki tüm değerleri 255 yaptık\n",
    "\n",
    "cv2.imshow('Fotograf',image)  \n",
    "cv2.waitKey(0)  \n",
    "cv2.destroyAllWindows() "
   ]
  },
  {
   "cell_type": "code",
   "execution_count": 25,
   "metadata": {},
   "outputs": [],
   "source": [
    "image=cv2.imread('old.jpg')\n",
    "\n",
    "yeni=np.zeros_like(image) # resim boyutunda sıfırlardan oluşan yeni bir resim\n",
    "cv2.imshow('Fotograf',yeni)  \n",
    "cv2.waitKey(0)  \n",
    "cv2.destroyAllWindows() "
   ]
  },
  {
   "cell_type": "markdown",
   "metadata": {},
   "source": [
    "# Ders 7 Aritmetik İşlemler"
   ]
  },
  {
   "cell_type": "code",
   "execution_count": 26,
   "metadata": {},
   "outputs": [],
   "source": [
    "image=cv2.imread('old.jpg')\n",
    "image=image+image # iki resmi topladık. \n",
    "# Eğer pikselin toplam değeri 255 i geçiyorsa bu durumda yeni değer= toplam-256.\n",
    "# Örneğin toplam=310 ise yeni değer 310-266=54 olur.\n",
    "\n",
    "cv2.imshow('Fotograf',image)  \n",
    "\n",
    "cv2.waitKey(0)  \n",
    "cv2.destroyAllWindows() "
   ]
  },
  {
   "cell_type": "code",
   "execution_count": 27,
   "metadata": {},
   "outputs": [],
   "source": [
    "image=cv2.imread('old.jpg')\n",
    "\n",
    "image =cv2.add(image,image)# iki resmi topladık.\n",
    "# Eğer pikselin toplam değeri 255 i geçiyorsa bu durumda yeni değer 255 olur\n",
    "cv2.imshow('Fotograf',image)  \n",
    "\n",
    "cv2.waitKey(0)  \n",
    "cv2.destroyAllWindows() "
   ]
  },
  {
   "cell_type": "code",
   "execution_count": 28,
   "metadata": {},
   "outputs": [],
   "source": [
    "image=cv2.imread('old.jpg')\n",
    "image =cv2.addWeighted(image,0.8,image,0.5,0)# iki resmi ağırlıklı topladık.\n",
    "# yani ilk resmi 0.8 ikinci resmi 0.5 ile çarpıp topladı\n",
    "# 0 değeri çok önemli değil. Varsayılan olarak yazdık.\n",
    "\n",
    "cv2.imshow('Fotograf',image)  \n",
    "\n",
    "cv2.waitKey(0)  \n",
    "cv2.destroyAllWindows() "
   ]
  },
  {
   "cell_type": "code",
   "execution_count": 29,
   "metadata": {},
   "outputs": [],
   "source": [
    "image=cv2.imread('old.jpg')\n",
    "yeni=yeni=np.zeros_like(image)\n",
    "yeni[:,:,2]=255 # burada resmin kırmızı değerlerini 255 yaptık.\n",
    "# Böylece resimden aslında kırmızı bir resim çıkaracağız altta\n",
    "resim =cv2.subtract(image,yeni) # ikinci resmi ilk resimden çıkardık\n",
    "cv2.imshow('Fotograf',image)  \n",
    "\n",
    "cv2.waitKey(0)  \n",
    "cv2.destroyAllWindows() "
   ]
  },
  {
   "cell_type": "code",
   "execution_count": 30,
   "metadata": {},
   "outputs": [],
   "source": [
    "image=cv2.imread('old.jpg')\n",
    "yeni=yeni=np.zeros_like(image)\n",
    "yeni[:,:,2]=255 # burada resmin kırmızı değerlerini 255 yaptık.\n",
    "image =image-yeni # ikinci resmi ilk resimden çıkardık. Buradaki sonuç yukarıdakinden daha farklı oluyor\n",
    "cv2.imshow('Fotograf',image)  \n",
    "\n",
    "cv2.waitKey(0)  \n",
    "cv2.destroyAllWindows() "
   ]
  },
  {
   "cell_type": "code",
   "execution_count": 31,
   "metadata": {},
   "outputs": [],
   "source": [
    "image=cv2.imread('old.jpg')\n",
    "yeni=yeni=np.zeros_like(image)\n",
    "yeni[:,:,2]=255 # burada resmin kırmızı değerlerini 255 yaptık.\n",
    "image =cv2.absdiff(image,yeni) # Mutlak değeri kulllanarak bir çıkarma yaptık\n",
    "cv2.imshow('Fotograf',image)  \n",
    "\n",
    "cv2.waitKey(0)  \n",
    "cv2.destroyAllWindows() "
   ]
  },
  {
   "cell_type": "code",
   "execution_count": 32,
   "metadata": {},
   "outputs": [],
   "source": [
    "image=cv2.imread('old.jpg')\n",
    "yeni=np.zeros_like(image)\n",
    "yeni[:,:,2]=255\n",
    "resim =cv2.multiply(image,yeni) # iki resme çarpma işlemi uyguladık\n",
    "cv2.imshow('Fotograf',image)  \n",
    "\n",
    "cv2.waitKey(0)  \n",
    "cv2.destroyAllWindows() "
   ]
  },
  {
   "cell_type": "markdown",
   "metadata": {},
   "source": [
    "# Ders 8 Dönüşüm İşlemleri"
   ]
  },
  {
   "cell_type": "code",
   "execution_count": 33,
   "metadata": {},
   "outputs": [],
   "source": [
    "image=cv2.imread('old.jpg')\n",
    "gri=cv2.cvtColor(image,cv2.COLOR_BGR2GRAY) # resmi gri'ye çevirdik\n",
    "cv2.imshow('Fotograf',gri)  \n",
    "cv2.waitKey(0)  \n",
    "cv2.destroyAllWindows() "
   ]
  },
  {
   "cell_type": "code",
   "execution_count": 34,
   "metadata": {},
   "outputs": [],
   "source": [
    "image=cv2.imread('old.jpg')\n",
    "renk_rgb=cv2.cvtColor(image,cv2.COLOR_BGR2RGB) # resmi RGB formatına dönüştürdük\n",
    "cv2.imshow('Fotograf',renk_rgb)  \n",
    "cv2.waitKey(0)  \n",
    "cv2.destroyAllWindows() "
   ]
  },
  {
   "cell_type": "code",
   "execution_count": 35,
   "metadata": {},
   "outputs": [],
   "source": [
    "image=cv2.imread('old.jpg')\n",
    "renk_hsv=cv2.cvtColor(image,cv2.COLOR_BGR2HSV) # resmi HSV formatına dönüştürdük\n",
    "cv2.imshow('Fotograf',renk_hsv)  \n",
    "cv2.waitKey(0)  \n",
    "cv2.destroyAllWindows() "
   ]
  },
  {
   "cell_type": "markdown",
   "metadata": {},
   "source": [
    "# Ders 9 Bit Bazında İşlemler"
   ]
  },
  {
   "cell_type": "code",
   "execution_count": 36,
   "metadata": {},
   "outputs": [],
   "source": [
    "image=cv2.imread('old.jpg')\n",
    "ters=cv2.bitwise_not(image) # resimdeki piksellerin tersini aldık. 0 olan 255, 255 olan 0 oldu gibi. \n",
    "# Buradaki işlem bit bazında  yani 255 11111111 tersi ise 00000000\n",
    "\n",
    "cv2.imshow('Fotograf',ters)  \n",
    "cv2.waitKey(0)  \n",
    "cv2.destroyAllWindows() "
   ]
  },
  {
   "cell_type": "code",
   "execution_count": 37,
   "metadata": {},
   "outputs": [],
   "source": [
    "image=cv2.imread('old.jpg')\n",
    "yeni=np.zeros_like(image)\n",
    "yeni[:,:,2]=255 # bu resmin kırmızı kanalını 255 yaptık.\n",
    "ters=cv2.bitwise_and(image,yeni)# iki resme bit bazında and işlemi uyguladık\n",
    "cv2.imshow('Fotograf',ters)  \n",
    "cv2.waitKey(0)  \n",
    "cv2.destroyAllWindows() "
   ]
  },
  {
   "cell_type": "code",
   "execution_count": 38,
   "metadata": {},
   "outputs": [],
   "source": [
    "image=cv2.imread('old.jpg')\n",
    "yeni=np.zeros_like(image)\n",
    "yeni[:,:,2]=255 # bu resmin kırmızı kanalını 255 yaptık.\n",
    "ters=cv2.bitwise_or(image,yeni)# iki resme bit bazında or işlemi uyguladık\n",
    "cv2.imshow('Fotograf',ters)  \n",
    "cv2.waitKey(0)  \n",
    "cv2.destroyAllWindows() "
   ]
  },
  {
   "cell_type": "markdown",
   "metadata": {},
   "source": [
    "# Ders 10 Boyut İşlemleri"
   ]
  },
  {
   "cell_type": "code",
   "execution_count": 39,
   "metadata": {},
   "outputs": [],
   "source": [
    "image=cv2.imread('old.jpg')\n",
    "yeni=cv2.resize(image,(500,500)) # resim boyutunu 500*500 yaptık \n",
    "cv2.imshow('Yeni',yeni)\n",
    "cv2.imshow('Fotograf',image)  \n",
    "cv2.waitKey(0)  \n",
    "cv2.destroyAllWindows() "
   ]
  },
  {
   "cell_type": "code",
   "execution_count": 40,
   "metadata": {},
   "outputs": [],
   "source": [
    "image=cv2.imread('old.jpg')\n",
    "yeni=cv2.resize(image,None,fx=0.9,fy=0.9) # resmin boyutunu her iki boyuttan da 0.9 katsayısı ile çarparak yeniden ayarladık.\n",
    "cv2.imshow('Yeni',yeni)\n",
    "cv2.imshow('Fotograf',image)  \n",
    "cv2.waitKey(0)  \n",
    "cv2.destroyAllWindows() "
   ]
  },
  {
   "cell_type": "code",
   "execution_count": 41,
   "metadata": {},
   "outputs": [],
   "source": [
    "image=cv2.imread('old.jpg')\n",
    "yeni=cv2.pyrUp(image) # resmin her iki boyutunu  da 2 katına çıkardık\n",
    "cv2.imshow('Yeni',yeni)\n",
    "cv2.imshow('Fotograf',image)  \n",
    "cv2.waitKey(0)  \n",
    "cv2.destroyAllWindows() "
   ]
  },
  {
   "cell_type": "code",
   "execution_count": 42,
   "metadata": {},
   "outputs": [],
   "source": [
    "image=cv2.imread('old.jpg')\n",
    "yeni=cv2.pyrDown(image) # resmin her iki boyutunu  da yarıya düşürdük\n",
    "cv2.imshow('Yeni',yeni)\n",
    "cv2.imshow('Fotograf',image)  \n",
    "cv2.waitKey(0)  \n",
    "cv2.destroyAllWindows() "
   ]
  },
  {
   "cell_type": "markdown",
   "metadata": {},
   "source": [
    "# Ders 11 Video İşlemleri"
   ]
  },
  {
   "cell_type": "code",
   "execution_count": 43,
   "metadata": {},
   "outputs": [],
   "source": [
    "kamera= cv2.VideoCapture(0) # video için kamaerayı açıyoruz. \n",
    "# buradaki 0 parametresi biligisayarın kendi kamerasını kullnacağımızı belirityor.\n",
    "# usb kamera için 1 ip kamera için kameranın ip'si lazım\n",
    "while True:\n",
    "    ret,kare=kamera.read() # kameradan görüntü alıyoruz. ret parametresi kameranın doğru çalışıp çalışmadığını belirtiyor.\n",
    "    # kare ise alınan görüntü\n",
    "\n",
    "    cv2.imshow(\"kamera\",kare)\n",
    "    if cv2.waitKey(25) & 0xFF == ord('q'): # burada waitkey ile 25 ms'de bir görüntü alıyoruz.\n",
    "        #ayrıca q tuşuna basılınca döngüden çıkılıyor. Yani kamerayı kapatıyoruz.\n",
    "        break\n",
    "kamera.release() # kamerayı serbest bırakıyoruz\n",
    "cv2.destroyAllWindows()\n"
   ]
  },
  {
   "cell_type": "code",
   "execution_count": 44,
   "metadata": {},
   "outputs": [],
   "source": [
    "kamera= cv2.VideoCapture(0)\n",
    "# kamera boyutunu 200*200 yaoıyoruz\n",
    "kamera.set(3,200)\n",
    "kamera.set(4,200)\n",
    "\n",
    "while True:\n",
    "    ret,kare=kamera.read() \n",
    "    \n",
    "    \n",
    "    cv2.imshow(\"kamera\",kare)\n",
    "    if cv2.waitKey(25) & 0xFF == ord('q'): \n",
    "        \n",
    "        break\n",
    "kamera.release() \n",
    "cv2.destroyAllWindows()\n"
   ]
  },
  {
   "cell_type": "code",
   "execution_count": 45,
   "metadata": {},
   "outputs": [],
   "source": [
    "kamera= cv2.VideoCapture('test.mp4') # bilgisayarda bulunan bir videoyu yükledik\n",
    "while True:\n",
    "    ret,kare=kamera.read() \n",
    "    \n",
    "    \n",
    "    cv2.imshow(\"kamera\",kare)\n",
    "    if cv2.waitKey(25) & 0xFF == ord('q'): \n",
    "        \n",
    "        break\n",
    "kamera.release() \n",
    "cv2.destroyAllWindows()\n"
   ]
  },
  {
   "cell_type": "code",
   "execution_count": 46,
   "metadata": {},
   "outputs": [],
   "source": [
    "kamera= cv2.VideoCapture(0)\n",
    "x=cv2.VideoWriter_fourcc(*\"XVID\") # kaydedici için format\n",
    "out=cv2.VideoWriter('yeni.mp4',x,30,(640,480)) # kaydediciyi ayarladık. ab.avi oluşacak dosyanın adı, 30 fps değeri\n",
    "# 640,480 ise videonun boyutu. Bu boyutu kendi kameranıza göre ayarlayın. Yoksa hata alabilirsiniz. Ya da video boş olabilir\n",
    "while True:\n",
    "    ret,kare=kamera.read() \n",
    "    if ret:\n",
    "        out.write(kare) # her bir kareyi kaydediyor\n",
    "        \n",
    "    \n",
    "    cv2.imshow(\"kamera\",kare)\n",
    "    if cv2.waitKey(25) & 0xFF == ord('q'): \n",
    "        \n",
    "        break\n",
    "out.release()\n",
    "kamera.release() \n",
    "cv2.destroyAllWindows()"
   ]
  },
  {
   "cell_type": "code",
   "execution_count": 47,
   "metadata": {},
   "outputs": [],
   "source": [
    "kamera= cv2.VideoCapture(0) \n",
    "while True:\n",
    "    ret,kare=kamera.read() \n",
    "    \n",
    "    kare=cv2.flip(kare,0) # görüntüyü ters çevirir\n",
    "    cv2.imshow(\"kamera\",kare)\n",
    "    if cv2.waitKey(25) & 0xFF == ord('q'): \n",
    "        \n",
    "        break\n",
    "kamera.release() \n",
    "cv2.destroyAllWindows()\n"
   ]
  },
  {
   "cell_type": "markdown",
   "metadata": {},
   "source": [
    "# Ders 12 Çeşitli Filtreler-1"
   ]
  },
  {
   "cell_type": "code",
   "execution_count": 3,
   "metadata": {},
   "outputs": [],
   "source": [
    "image=cv2.imread('old.jpg')\n",
    "blur=cv2.GaussianBlur(image,(7,7),0) # resme Gaussian Blur uyguladık. 7,7 kernel size\n",
    "cv2.imshow('Blur',blur) \n",
    "cv2.imshow('Fotograf',image)  \n",
    "cv2.waitKey(0)  \n",
    "cv2.destroyAllWindows() "
   ]
  },
  {
   "cell_type": "code",
   "execution_count": 49,
   "metadata": {},
   "outputs": [],
   "source": [
    "image=cv2.imread('old.jpg')\n",
    "blur=cv2.medianBlur(image,5) # resme median Blur uyguladık. 5 kernel size\n",
    "cv2.imshow('Blur',blur) \n",
    "cv2.imshow('Fotograf',image)  \n",
    "cv2.waitKey(0)  \n",
    "cv2.destroyAllWindows() "
   ]
  },
  {
   "cell_type": "code",
   "execution_count": 50,
   "metadata": {},
   "outputs": [],
   "source": [
    "image=cv2.imread('noise.jpg')\n",
    "filtre=cv2.bilateralFilter(image,15, 75, 75) # daha farklı bir filtre. Gürültü azaltmak için kullanılabilir\n",
    "cv2.imshow('Filtre',filtre) \n",
    "cv2.imshow('Fotograf',image)  \n",
    "cv2.waitKey(0)  \n",
    "cv2.destroyAllWindows() "
   ]
  },
  {
   "cell_type": "code",
   "execution_count": 51,
   "metadata": {},
   "outputs": [],
   "source": [
    "image=cv2.imread('wal.jpg')\n",
    "image=cv2.resize(image,(600,300))\n",
    "mask = cv2.erode(image,None,iterations=2) # resmi aşındırma için kullanılır.Aslında içindeki obje için demek daha doğru olur\n",
    "cv2.imshow('Filtre',mask) \n",
    "cv2.imshow('Fotograf',image)  \n",
    "cv2.waitKey(0)  \n",
    "cv2.destroyAllWindows() "
   ]
  },
  {
   "cell_type": "code",
   "execution_count": 52,
   "metadata": {},
   "outputs": [],
   "source": [
    "image=cv2.imread('wal.jpg')\n",
    "image=cv2.resize(image,(600,300)) \n",
    "\n",
    "mask = cv2.dilate(image,None,iterations=2) # resmi genişletme için kullanılır. Aslında içindeki obje için demek daha doğru olur\n",
    "cv2.imshow('Filtre',mask) \n",
    "\n",
    "cv2.imshow('Fotograf',image)  \n",
    "cv2.waitKey(0)  \n",
    "cv2.destroyAllWindows() "
   ]
  },
  {
   "cell_type": "code",
   "execution_count": 53,
   "metadata": {},
   "outputs": [],
   "source": [
    "image=cv2.imread('wal.jpg')\n",
    "image=cv2.resize(image,(600,300)) \n",
    "\n",
    "kernel = np.ones((5, 5), np.uint8) # # Morfolojik işlem için çekirdek(matris)\n",
    "\n",
    "\n",
    "output_image = cv2.morphologyEx(image, cv2.MORPH_ERODE, kernel) # Erozyon işlemi uyguluyoruz\n",
    "cv2.imshow('Filtre',output_image) \n",
    "\n",
    "cv2.imshow('Fotograf',image)  \n",
    "cv2.waitKey(0)  \n",
    "cv2.destroyAllWindows() "
   ]
  },
  {
   "cell_type": "code",
   "execution_count": 54,
   "metadata": {},
   "outputs": [],
   "source": [
    "image=cv2.imread('wal.jpg')\n",
    "image=cv2.resize(image,(600,300)) \n",
    "\n",
    "kernel = np.ones((5, 5), np.uint8) # # Morfolojik işlem için çekirdek(matris)\n",
    "\n",
    "\n",
    "output_image = cv2.morphologyEx(image, cv2.MORPH_DILATE, kernel) # Genişletme işlemi uyguluyoruz\n",
    "cv2.imshow('Filtre',output_image) \n",
    "\n",
    "cv2.imshow('Fotograf',image)  \n",
    "cv2.waitKey(0)  \n",
    "cv2.destroyAllWindows() "
   ]
  },
  {
   "cell_type": "code",
   "execution_count": 55,
   "metadata": {},
   "outputs": [],
   "source": [
    "image=cv2.imread('old.jpg')\n",
    "gri=cv2.cvtColor(image,cv2.COLOR_BGR2GRAY)\n",
    "_,mask=cv2.threshold(gri,127,255,cv2.THRESH_BINARY)# gri resimdeki 127 den büyük pikselleri 255 gerisini 0 yaptık \n",
    "cv2.imshow('Fotograf',mask)  \n",
    "cv2.waitKey(0)  \n",
    "cv2.destroyAllWindows() "
   ]
  },
  {
   "cell_type": "markdown",
   "metadata": {},
   "source": [
    "# Ders 13 Çeşitli Filtreler-2"
   ]
  },
  {
   "cell_type": "code",
   "execution_count": 133,
   "metadata": {},
   "outputs": [],
   "source": [
    "image=cv2.imread('city.jpg')\n",
    "filtre=cv2.Canny(image,100,200) # Resimdeki kenarları bulmak için kullanılır\n",
    "cv2.imshow('Filtre',filtre) \n",
    "cv2.imshow('Fotograf',image)  \n",
    "cv2.waitKey(0)  \n",
    "cv2.destroyAllWindows() "
   ]
  },
  {
   "cell_type": "code",
   "execution_count": 118,
   "metadata": {},
   "outputs": [],
   "source": [
    "image=cv2.imread('city.jpg')\n",
    "\n",
    "filtre=cv2.Canny(image,100,200) \n",
    "\n",
    "# Burada bulduğumuz kenarlar beyaz ile gösteririlyor. Bu aşağıdaki komut ile bu beyaz alanları tespit edebiliriz\n",
    "contours, _ = cv2.findContours(filtre, cv2.RETR_EXTERNAL, cv2.CHAIN_APPROX_SIMPLE)\n",
    "\n",
    "# Bu alanları resimde göstrebiliriz. Ben yeşil renkte göstermeyi tercih ettim\n",
    "cv2.drawContours(image, contours, -1, (0, 255, 0), 2)\n",
    "cv2.imshow('Filtre',filtre) \n",
    "cv2.imshow('Fotograf',image)  \n",
    "cv2.waitKey(0)  \n",
    "cv2.destroyAllWindows() "
   ]
  },
  {
   "cell_type": "code",
   "execution_count": 119,
   "metadata": {},
   "outputs": [],
   "source": [
    "image=cv2.imread('city.jpg')\n",
    "gri=cv2.cvtColor(image,cv2.COLOR_BGR2GRAY)\n",
    "filtre=x = cv2.Sobel(gri, cv2.CV_64F, 0,1, ksize=5, scale=1) # Resimdeki  yatay kenarları bulmak için kullanılabilinir\n",
    "cv2.imshow('Filtre',filtre) \n",
    "cv2.imshow('Fotograf',image)  \n",
    "cv2.waitKey(0)  \n",
    "cv2.destroyAllWindows() "
   ]
  },
  {
   "cell_type": "code",
   "execution_count": 120,
   "metadata": {},
   "outputs": [],
   "source": [
    "image=cv2.imread('city.jpg')\n",
    "gri=cv2.cvtColor(image,cv2.COLOR_BGR2GRAY)\n",
    "filtre=x = cv2.Sobel(gri, cv2.CV_64F, 1,0, ksize=5, scale=1) # Resimdeki  dikey  kenarları bulmak için kullanılabilinir\n",
    "cv2.imshow('Filtre',filtre) \n",
    "cv2.imshow('Fotograf',image)  \n",
    "cv2.waitKey(0)  \n",
    "cv2.destroyAllWindows() "
   ]
  },
  {
   "cell_type": "code",
   "execution_count": 117,
   "metadata": {},
   "outputs": [],
   "source": [
    "image=cv2.imread('city.jpg')\n",
    "gri=cv2.cvtColor(image,cv2.COLOR_BGR2GRAY)\n",
    "filtre= cv2.Laplacian(gri, cv2.CV_64F,ksize=3) # Resme Laplacian filtre uyguladık\n",
    "cv2.imshow('Filtre',filtre) \n",
    "cv2.imshow('Fotograf',image)  \n",
    "cv2.waitKey(0)  \n",
    "cv2.destroyAllWindows() "
   ]
  },
  {
   "cell_type": "code",
   "execution_count": 116,
   "metadata": {},
   "outputs": [],
   "source": [
    "# Bu şekilde direk matrisi biz ayarlayıp bunu filtre olarak uygulayabiliriz.\n",
    "\n",
    "image=cv2.imread('city.jpg')\n",
    "kernel = np.array([[0, -1, 0], [-1, 5,-1], [0, -1, 0]])\n",
    "filtre = cv2.filter2D(image, -1, kernel)\n",
    "cv2.imshow('Filtre',filtre) \n",
    "cv2.imshow('Fotograf',image)  \n",
    "cv2.waitKey(0)  \n",
    "cv2.destroyAllWindows() "
   ]
  },
  {
   "cell_type": "markdown",
   "metadata": {},
   "source": [
    "# Ders 14 Dönüşüm İşlemleri "
   ]
  },
  {
   "cell_type": "code",
   "execution_count": 62,
   "metadata": {},
   "outputs": [],
   "source": [
    "#Burada bir döndürme matrisi ayarlayıp resmi ona göre döndürüyoruz.\n",
    "\n",
    "image = cv2.imread(\"ankara.jpg\")\n",
    "\n",
    "angle = 30  # Döndürme açısı \n",
    "scale = 1.0  # Ölçek faktörü. Burada resimle aynı\n",
    "height, width = image.shape[:-1]  # Resmin  boyutu\n",
    "center = (width // 2, height // 2)  # Döndürme merkezi, burada resmin ortasını ayarladık.  \n",
    "\n",
    "\n",
    "\n",
    "# Döndürme matrisi \n",
    "matrix = cv2.getRotationMatrix2D(center, angle, scale)\n",
    "\n",
    "# Resmi döndürüyoruz\n",
    "yeni = cv2.warpAffine(image, matrix, (width, height))\n",
    "\n",
    "cv2.imshow('Fotograf',image) \n",
    "cv2.imshow(\"Yeni\",yeni)\n",
    "\n",
    "cv2.waitKey(0)\n",
    "cv2.destroyAllWindows()"
   ]
  },
  {
   "cell_type": "code",
   "execution_count": 135,
   "metadata": {},
   "outputs": [],
   "source": [
    "# Burada resimde 3 tane nokta seçiyoruz. Ardından hedef 3 nokta seçiyoruz. Buna noktalara göre yeni bir dönüşüm işlemi yapılıyor\n",
    "# Buna göre bir resim oluşuyor. Burada yapılan olay aslında iki tane üçgen belirleyip bu üçgenlerin durumuna göre yeni bir \n",
    "# görsel oluşturmak. Örneğin burada hedef üçgen orijinal üçgenin sağında ve altında bundan dolayı yeni resim daha sağ ve altta\n",
    "# Ayrıca yeni üçgenin boyutları daha fazla. O yüzden resim biraz daha büyüyor\n",
    "\n",
    "image = cv2.imread(\"ankara.jpg\")\n",
    "height, width = image.shape[:-1] \n",
    "\n",
    "# Orijinal görüntü üzerindeki üç nokta\n",
    "original_points = np.float32([[50, 50], [200, 50], [50, 200]])\n",
    "\n",
    "# Hedef görüntü üzerindeki üç nokta.\n",
    "target_points = np.float32([[75, 75], [250, 75], [75, 250]])\n",
    "\n",
    "# Afin dönüşüm matrisini oluşturuyoruz.\n",
    "M = cv2.getAffineTransform(original_points, target_points)\n",
    "\n",
    "\n",
    "# Görüntüyü dönüştürüyoruz.\n",
    "yeni = cv2.warpAffine(image, M, (image.shape[1], image.shape[0]))\n",
    "\n",
    "cv2.imshow('Fotograf',image) \n",
    "cv2.imshow(\"Yeni\",yeni)\n",
    "\n",
    "cv2.waitKey(0)\n",
    "cv2.destroyAllWindows()"
   ]
  },
  {
   "cell_type": "code",
   "execution_count": 134,
   "metadata": {},
   "outputs": [],
   "source": [
    "#Burada perspektif dönüşümü yapıyoruz. \n",
    "# Burada 4 farklı nokta üstünden yapıyoruz bunu\n",
    "image = cv2.imread(\"ankara.jpg\")\n",
    "height, width = image.shape[:-1] \n",
    "\n",
    "# Dört köşenin orijinal koordinatları (örneğin, bir dikdörtgen)\n",
    "original_points = np.float32([[50, 50], [200, 50], [50, 200], [200, 200]])\n",
    "\n",
    "# Dört köşenin hedef koordinatları (örneğin, perspektif dönüşüm ile çarpraz)\n",
    "target_points = np.float32([[75, 75], [175, 50], [50, 150], [225, 200]])\n",
    "\n",
    "# Perspektif dönüşüm matrisini oluşturutoruz\n",
    "M = cv2.getPerspectiveTransform(original_points, target_points)\n",
    "\n",
    "\n",
    "# Görüntüyü dönüştürüyoruz.\n",
    "yeni = cv2.warpPerspective (image, M, (image.shape[1], image.shape[0]))\n",
    "\n",
    "cv2.imshow('Fotograf',image) \n",
    "cv2.imshow(\"Yeni\",yeni)\n",
    "\n",
    "cv2.waitKey(0)\n",
    "cv2.destroyAllWindows()"
   ]
  },
  {
   "cell_type": "markdown",
   "metadata": {},
   "source": [
    "# Ders 15 Şekil Tespiti"
   ]
  },
  {
   "cell_type": "code",
   "execution_count": 136,
   "metadata": {},
   "outputs": [],
   "source": [
    "#Daireleri tespit ediyoruz.\n",
    "image = cv2.imread(\"shapes2.jpg\")\n",
    "gray = cv2.cvtColor(image, cv2.COLOR_BGR2GRAY)\n",
    "\n",
    "# Burada Hough algoritması ile tespit ediyoruz daire ve çemberleri\n",
    "# dp,  Hough dönüşüm parametresi.\n",
    "# minDist, Tespit edilen daireler arasındaki minimum mesafe\n",
    "# param1 ve param2 Hough dönüşümünün hassasiyetini ayarlayan parametreler.\n",
    "# minRadius ve maxRadius: Tespit edilebilecek dairelerin minimum ve maksimum yarıçapları.\n",
    "circles = cv2.HoughCircles(\n",
    "    gray, cv2.HOUGH_GRADIENT, dp=1, minDist=20, param1=50, param2=30, minRadius=50, maxRadius=100\n",
    ")\n",
    "\n",
    "# Tespit edilen çemberleri çizdiriyoruz. \n",
    "# Yeşil renkte çember ile çizilecek tespit edilen çemberler\n",
    "if circles is not None:\n",
    "    circles = np.uint16(np.around(circles))\n",
    "    for circle in circles[0, :]:\n",
    "        \n",
    "        center = (circle[0], circle[1]) # Çemberin merkezi\n",
    "        \n",
    "        radius = circle[2] # Çemberin yarıapı\n",
    "        cv2.circle(image, center, radius, (0, 255, 0), 5)\n",
    "\n",
    "\n",
    "cv2.imshow('Fotograf',image) \n",
    "cv2.waitKey(0)\n",
    "cv2.destroyAllWindows()"
   ]
  },
  {
   "cell_type": "code",
   "execution_count": 66,
   "metadata": {},
   "outputs": [],
   "source": [
    "# Burada resimdeki çizgileri tespit ediyoruz. \n",
    "# Fakat bende çok iyi sonuçlar vermedi\n",
    "\n",
    "image = cv2.imread(\"shapes.png\")\n",
    "\n",
    "\n",
    "gray = cv2.cvtColor(image, cv2.COLOR_BGR2GRAY)\n",
    "\n",
    "# Burada çizgileri tespit ediyoruz. \n",
    "# 1, np.pi / 180: dönüşüm parametreleri\n",
    "# 200 ise thrshold değeri\n",
    "lines = cv2.HoughLines(gray, 1, np.pi / 180, 200)\n",
    "\n",
    "# Bulunan çizgileri ekranda kırmızı renk ile göstreiyoruz.\n",
    "if lines is not None:\n",
    "    for line in lines:\n",
    "        rho, theta = line[0]\n",
    "        a = np.cos(theta)\n",
    "        b = np.sin(theta)\n",
    "        x0 = a * rho\n",
    "        y0 = b * rho\n",
    "        x1 = int(x0 + 1000 * (-b))\n",
    "        y1 = int(y0 + 1000 * (a))\n",
    "        x2 = int(x0 - 1000 * (-b))\n",
    "        y2 = int(y0 - 1000 * (a))\n",
    "        cv2.line(image, (x1, y1), (x2, y2), (0, 0, 255), 2)\n",
    "\n",
    "\n",
    "\n",
    "cv2.imshow('Fotograf',image) \n",
    "cv2.waitKey(0)\n",
    "cv2.destroyAllWindows()"
   ]
  },
  {
   "cell_type": "markdown",
   "metadata": {},
   "source": [
    "# Ders 16 Kontur (Bölge) İşlemleri"
   ]
  },
  {
   "cell_type": "code",
   "execution_count": 67,
   "metadata": {},
   "outputs": [],
   "source": [
    "# Filte uygulamadan da resimde alanlar varsa bu şekilde bulup çizdirebiliriz.\n",
    "# Burada direk alanları buluyoruz.\n",
    "# Burada fonksiyona vereceğimiz resim tek kanallı olmalı. Önreğin yukarıdaki filtreler bu şekildeydi.\n",
    "# O yüzden resmi griye çevirip öyle veriyoruz.\n",
    "\n",
    "image=cv2.imread('shapes.png')\n",
    "image2=cv2.cvtColor(image, cv2.COLOR_BGR2GRAY)\n",
    "\n",
    "contours, _ = cv2.findContours(image2, cv2.RETR_EXTERNAL, cv2.CHAIN_APPROX_SIMPLE)\n",
    "cv2.drawContours(image, contours, -1, (0, 255, 0), 2)\n",
    "\n",
    "cv2.imshow('Fotograf',image)  \n",
    "cv2.waitKey(0)  \n",
    "cv2.destroyAllWindows() "
   ]
  },
  {
   "cell_type": "code",
   "execution_count": 68,
   "metadata": {},
   "outputs": [
    {
     "name": "stdout",
     "output_type": "stream",
     "text": [
      "Kontor alanı: 5937.5\n",
      "Kontor alanı: 5989.0\n",
      "Kontor alanı: 6006.0\n",
      "Kontor alanı: 6005.0\n"
     ]
    }
   ],
   "source": [
    "# Kontor alanlarının büyüklüğünü hesaplayabiliriz.\n",
    "\n",
    "image=cv2.imread('shapes.png')\n",
    "image2=cv2.cvtColor(image, cv2.COLOR_BGR2GRAY)\n",
    "\n",
    "contours, _ = cv2.findContours(image2, cv2.RETR_EXTERNAL, cv2.CHAIN_APPROX_SIMPLE)\n",
    "cv2.drawContours(image, contours, -1, (0, 255, 0), 2)\n",
    "\n",
    "for contour in contours:\n",
    "    \n",
    "    area = cv2.contourArea(contour) #Alanın büyüklüğü hesaplanıyor\n",
    "    print('Kontor alanı:', area)\n",
    "cv2.imshow('Fotograf',image)  \n",
    "cv2.waitKey(0)  \n",
    "cv2.destroyAllWindows() "
   ]
  },
  {
   "cell_type": "code",
   "execution_count": 69,
   "metadata": {},
   "outputs": [],
   "source": [
    "# Kontor alanlarının merkezini bulabiliriz.\n",
    "\n",
    "\n",
    "image=cv2.imread('shapes.png')\n",
    "image2=cv2.cvtColor(image, cv2.COLOR_BGR2GRAY)\n",
    "\n",
    "contours, _ = cv2.findContours(image2, cv2.RETR_EXTERNAL, cv2.CHAIN_APPROX_SIMPLE)\n",
    "cv2.drawContours(image, contours, -1, (0, 255, 0), 2)\n",
    "\n",
    "for contour in contours:\n",
    "    \n",
    "    moments = cv2.moments(contour)  #Alanın merkezini bulduk\n",
    "    centroid_x = moments['m10'] / moments['m00']  # Merkez X koordinatı\n",
    "    centroid_y = moments['m01'] / moments['m00']  # Merkez Y koordinatı\n",
    "    #Merkezleri mor bir nokta olarak ekranda gösterdik\n",
    "    cv2.circle(image, (int(centroid_x), int(centroid_y)), 5, (102,0,153), -1)\n",
    "    \n",
    "cv2.imshow('Fotograf',image)  \n",
    "cv2.waitKey(0)  \n",
    "cv2.destroyAllWindows() "
   ]
  },
  {
   "cell_type": "code",
   "execution_count": 70,
   "metadata": {},
   "outputs": [],
   "source": [
    "# Kontor alanlarını içine alan en küçük çemberi bulabiliriz\n",
    "\n",
    "\n",
    "image=cv2.imread('shapes.png')\n",
    "image2=cv2.cvtColor(image, cv2.COLOR_BGR2GRAY)\n",
    "\n",
    "contours, _ = cv2.findContours(image2, cv2.RETR_EXTERNAL, cv2.CHAIN_APPROX_SIMPLE)\n",
    "cv2.drawContours(image, contours, -1, (0, 255, 0), 2)\n",
    "\n",
    "for contour in contours:\n",
    "    \n",
    "    (center, radius) = cv2.minEnclosingCircle(contour) #Bu çemberinmerkezi ve yarıçapı\n",
    "    centroid_x,centroid_y=center\n",
    "    # Bu alanları içine alan en küçük çemberi çizdirdik\n",
    "    cv2.circle(image, (int(centroid_x), int(centroid_y)), int(radius), (102,0,153),1)\n",
    "    \n",
    "cv2.imshow('Fotograf',image)  \n",
    "cv2.waitKey(0)  \n",
    "cv2.destroyAllWindows() "
   ]
  },
  {
   "cell_type": "code",
   "execution_count": 71,
   "metadata": {},
   "outputs": [],
   "source": [
    "# Kontor alanlarını içine alan en küçük dikdörtgeni  bulabiliriz\n",
    "\n",
    "\n",
    "image=cv2.imread('shapes.png')\n",
    "image2=cv2.cvtColor(image, cv2.COLOR_BGR2GRAY)\n",
    "\n",
    "contours, _ = cv2.findContours(image2, cv2.RETR_EXTERNAL, cv2.CHAIN_APPROX_SIMPLE)\n",
    "cv2.drawContours(image, contours, -1, (0, 255, 0), 2)\n",
    "\n",
    "for contour in contours:\n",
    "    #dikdörtgenin koordinatları\n",
    "    # x ve y sol üst köşe, w genişlik, h yükseklik \n",
    "    x, y, w, h = cv2.boundingRect(contour)\n",
    "    centroid_x,centroid_y=center\n",
    "    \n",
    "    # Bu alanları içine alan en küçük dikdörtgeni çizdirdik\n",
    "    cv2.rectangle(image,(x,y,),(x+w,y+h),[0,255,255],2)\n",
    "    \n",
    "cv2.imshow('Fotograf',image)  \n",
    "cv2.waitKey(0)  \n",
    "cv2.destroyAllWindows() "
   ]
  },
  {
   "cell_type": "code",
   "execution_count": 72,
   "metadata": {},
   "outputs": [
    {
     "name": "stdout",
     "output_type": "stream",
     "text": [
      "-1.0\n"
     ]
    }
   ],
   "source": [
    "# Seçilen bir noktanın bölgenin içinde olup olmadığını bulabiliriz.\n",
    "image=cv2.imread('shapes.png')\n",
    "image2=cv2.cvtColor(image, cv2.COLOR_BGR2GRAY)\n",
    "\n",
    "contours, _ = cv2.findContours(image2, cv2.RETR_EXTERNAL, cv2.CHAIN_APPROX_SIMPLE)\n",
    "cv2.drawContours(image, contours, -1, (0, 255, 0), 2)\n",
    "\n",
    "# Resimden bir nokta seçtik bunlar koordinatları\n",
    "point=(150,150)\n",
    "\n",
    "# Noktanın bölgenin içinde olup olmadığına baktık.\n",
    "# Burada baktığımız bölge ilk bölge, bölgeler içindeki\n",
    "result = cv2.pointPolygonTest(contours[0], point, False)\n",
    "\n",
    "\n",
    "# eğer nokta bölgenin içinde ise bu değişkenin değeri 1.0 tam üstündeyse 0.0 dışındaysa -1.0 olacaktır\n",
    "print(result)\n",
    "cv2.circle(image, point, 5, (102,0,153), -1)\n",
    "cv2.imshow('Fotograf',image)  \n",
    "cv2.waitKey(0)  \n",
    "cv2.destroyAllWindows() "
   ]
  },
  {
   "cell_type": "markdown",
   "metadata": {},
   "source": [
    "# Ders 17 Çeşitli Fonksiyonlar 1"
   ]
  },
  {
   "cell_type": "markdown",
   "metadata": {},
   "source": [
    "# Match Template"
   ]
  },
  {
   "cell_type": "code",
   "execution_count": 73,
   "metadata": {},
   "outputs": [],
   "source": [
    "# Burada iki resmi kıyaslayıp bir resmin diğer resmin içinde yer alıp almadğına bakacağız.\n",
    "# Özellikle oyun için bot yazarken bu kullanılabilir. \n",
    "# bu görüntü işleme olarak da geçiyor.\n",
    "# Nesne tespiti kadar iyi sonuç vermez genelde\n",
    "# Ana resmi yüklüyoruz.\n",
    "\n",
    "\n",
    "image=cv2.imread('city.jpg')\n",
    "\n",
    "# Şablon resmi yüklüyoruz. Bu resim ana resmin içinde var mı diye bakacağız\n",
    "template=cv2.imread('template.jpg')\n",
    "\n",
    "# Bu fonksiyonu kullanarak görüntü eşleme işlemini yapıyoruz.\n",
    "# En son parametre burada kullanılan method. Başka methodlar da var.\n",
    "result = cv2.matchTemplate(image, template, cv2.TM_CCOEFF_NORMED)\n",
    "\n",
    "\n",
    "# burada min_val,  şablon resim ile resim arasındaki eşleşmenin en düşük olduğu yerin  eşleşme puanı\n",
    "# burada max_val,  şablon resim ile resim arasındaki eşleşmenin en yüksek olduğu yerin  eşleşme puanı\n",
    "# burada min_loc, resimde en düşük eşleşme puanına sahip yerin resimdeki sol üst köşesinin koordinatları\n",
    "# burada max_loc, resimde en yüksek eşleşme puanına sahip yerin resimdeki sol üst köşesinin koordinatları\n",
    "min_val, max_val, min_loc, max_loc = cv2.minMaxLoc(result)\n",
    "\n",
    "# Eşleşme eşiği belirliyoruz.\n",
    "threshold = 0.8  \n",
    "\n",
    "# En yüksek eşleşmeye sahip puan threshold'dan büyüksek bölgeyi dikdörtgen içine alacağız\n",
    "if max_val >= threshold:\n",
    "    # Eşleşmenin oldu bölgenin sol üst köşesinin koordinatları\n",
    "    x,y = max_loc\n",
    "    \n",
    "    # şablon resmin boyutları yani genişlik ve yükseklik değerleri\n",
    "    h, w = template.shape[:-1]\n",
    "    \n",
    "    #Sol üst köşe ve sağ alt köşenin koordinatlarını girerek bölgeyi dikdörtgen içine alıyoruz.\n",
    "    cv2.rectangle(image, (x,y), (x+w,y+h), (0, 255, 0), 2)  # Eşleşme bölgesini çiz\n",
    "\n",
    "cv2.imshow('Fotograf',image)  \n",
    " \n",
    "cv2.waitKey(0)  \n",
    "cv2.destroyAllWindows() "
   ]
  },
  {
   "cell_type": "markdown",
   "metadata": {},
   "source": [
    "# Renk Tespiti"
   ]
  },
  {
   "cell_type": "code",
   "execution_count": 74,
   "metadata": {},
   "outputs": [],
   "source": [
    "# Burada resimde belirli bir renk değerine sahip bölgeleri bulabiliriz\n",
    "\n",
    "\n",
    "image=cv2.imread('colorshapes.png')\n",
    "\n",
    "# Resmi HSV uzayına çeviriyoruz.\n",
    "hsv_img = cv2.cvtColor(image, cv2.COLOR_BGR2HSV)\n",
    "\n",
    "# kırmızı renk için HSV değerleri\n",
    "low_red=np.array([0, 50, 70])\n",
    "high_red=np.array([20, 255, 255])\n",
    " \n",
    "# Resimde bu iki değer arasında kalan değerler beyaz geri kalan kısımlar siyah olacak.\n",
    "# Kırmızı renk için ayarladığımız için sadece kırmızı rengin oldğu yerler beyaz gözükecek\n",
    "mask = cv2.inRange(hsv_img, low_red, high_red)\n",
    "\n",
    "cv2.imshow('Fotograf',image) \n",
    "cv2.imshow(\"Maske\",mask)\n",
    "cv2.waitKey(0)\n",
    "cv2.destroyAllWindows()"
   ]
  },
  {
   "cell_type": "code",
   "execution_count": 75,
   "metadata": {},
   "outputs": [],
   "source": [
    "# Bu işlemi diğer renkler için de yaparsak\n",
    "\n",
    "image=cv2.imread('colorshapes.png')\n",
    "\n",
    "\n",
    "hsv_img = cv2.cvtColor(image, cv2.COLOR_BGR2HSV)\n",
    "\n",
    "# Bu değerlere internetten de bakabilirsiniz.\n",
    "# Bazı kaynaklarda daha farklı veriyor\n",
    "\n",
    "# kırmızı renk için HSV değerleri\n",
    "low_red=np.array([0, 50, 70])\n",
    "high_red=np.array([20, 255, 255])\n",
    "\n",
    "# mavi renk için HSV değerleri\n",
    "low_blue = np.array([100,150,0])\n",
    "high_blue = np.array([140,255,255])\n",
    "\n",
    "# sarı renk için HSV değerleri\n",
    "low_yellow = np.array([20, 100, 100])\n",
    "high_yellow = np.array([30, 255, 255])\n",
    "\n",
    "# yeşil renk için HSV değerleri\n",
    "low_green=np.array([40, 150, 20])\n",
    "high_green=np.array([70, 255, 255])\n",
    " \n",
    "\n",
    "mask1 = cv2.inRange(hsv_img, low_red, high_red)\n",
    "mask2 = cv2.inRange(hsv_img, low_blue, high_blue)\n",
    "mask3 = cv2.inRange(hsv_img, low_yellow, high_yellow)\n",
    "mask4 = cv2.inRange(hsv_img, low_green, high_green)\n",
    "\n",
    "cv2.imshow('Fotograf',image) \n",
    "cv2.imshow(\"Maske1\",mask1)\n",
    "cv2.imshow(\"Maske2\",mask2)\n",
    "cv2.imshow(\"Maske3\",mask3)\n",
    "cv2.imshow(\"Maske4\",mask4)\n",
    "cv2.waitKey(0)\n",
    "cv2.destroyAllWindows()"
   ]
  },
  {
   "cell_type": "markdown",
   "metadata": {},
   "source": [
    "# Keypoints"
   ]
  },
  {
   "cell_type": "code",
   "execution_count": 138,
   "metadata": {},
   "outputs": [],
   "source": [
    "# Burada ORB kullnarak resimdeki anahtar noktaları buluyoruz\n",
    "\n",
    "\n",
    "image = cv2.imread(\"city.jpg\")\n",
    "\n",
    "# ORB özellik çıkarımı kullanarak anahtar noktaları tespit ediyoruz\n",
    "orb = cv2.ORB_create()\n",
    "keypoints = orb.detect(image, None)\n",
    "\n",
    "# Anahtar noktaları çiziyoruz.\n",
    "output_image = cv2.drawKeypoints(image, keypoints, None, color=(0, 255, 0), flags=cv2.DRAW_MATCHES_FLAGS_DRAW_RICH_KEYPOINTS)\n",
    "\n",
    "# Görüntüyü göster\n",
    "cv2.imshow(\"Keypoints\", output_image)\n",
    "cv2.waitKey(0)\n",
    "cv2.destroyAllWindows()"
   ]
  },
  {
   "cell_type": "markdown",
   "metadata": {},
   "source": [
    "# Remap"
   ]
  },
  {
   "cell_type": "code",
   "execution_count": 77,
   "metadata": {},
   "outputs": [],
   "source": [
    "# Burada bir resimdeki pikselleri alıp daha farklı bir resme aktarıyoruz. Bunu cv2.remap fonksiyonu ile  yapıyoruz.\n",
    "# Bunu yaparken iki tane matris kullanıyoruz, map_x ve map_y adında. Bu matrislerde oynama yaparak yeni resimlerde piksellerin\n",
    "# nasıl eşleşeceğini de belirleyebiliriz. Örneğin burada resim 100 piksel sağa kayıyor ayrıca yansıması alınıyor\n",
    "\n",
    "\n",
    "\n",
    "image = cv2.imread(\"city.jpg\")\n",
    "\n",
    "# Görüntü boyutunu \n",
    "height, width = image.shape[:2]\n",
    "\n",
    "# Yeni konumları tanımla \n",
    "map_x = np.zeros((height, width), dtype=np.float32)\n",
    "map_y = np.zeros((height, width), dtype=np.float32)\n",
    "\n",
    "# Kaydırma miktarı\n",
    "shift_x = 100\n",
    "\n",
    "for i in range(height):\n",
    "    for j in range(width):\n",
    "        # X koordinatını kaydır ve yansıt\n",
    "        new_x = j - shift_x\n",
    "        new_x = width - new_x - 1  # Yansıtma\n",
    "        map_x[i, j] = new_x\n",
    "\n",
    "        # Y koordinatını değişmiyor\n",
    "        map_y[i, j] = i\n",
    "\n",
    "# Görüntüyü yeniden harapla, yani yeni bir görüntüye eşleştir\n",
    "remapped_image = cv2.remap(image, map_x, map_y, interpolation=cv2.INTER_LINEAR, borderMode=cv2.BORDER_CONSTANT)\n",
    "\n",
    "\n",
    "cv2.imshow(\"Remapped Image\", remapped_image)\n",
    "cv2.imshow(\"Image\", image)\n",
    "cv2.waitKey(0)\n",
    "cv2.destroyAllWindows()\n",
    "\n",
    "\n",
    "\n",
    "\n",
    "\n",
    "\n"
   ]
  },
  {
   "cell_type": "markdown",
   "metadata": {},
   "source": [
    "# Trackbar"
   ]
  },
  {
   "cell_type": "code",
   "execution_count": 80,
   "metadata": {},
   "outputs": [],
   "source": [
    "#Burada bir trackbar oluşturuyoruz. Bu trackbar resmin üstünde çıkan bir bar. Burada kullanıcı buradaki değerleri değiştirebilir\n",
    "# Bu değişime göre resimdeki bazı şeyleri de değiştirebiliriz. \n",
    "# Value değişkeni 0 ile 255 arasında değer alıyor Eğer 0 ise resim kırmzı 255 ise mavi olacak şekilde değer ataması yapılmış.\n",
    "\n",
    "\n",
    "image = np.zeros((300, 512, 3), dtype=np.uint8)\n",
    "\n",
    "# Pencere adı\n",
    "window_name = \"Trackbar Example\"\n",
    "\n",
    "# Pencereyi gösteriyoruz\n",
    "cv2.namedWindow(window_name)\n",
    "\n",
    "# Trackbar'ı oluşturuyoruz\n",
    "cv2.createTrackbar(\"Trackbar\", window_name, 0, 255, lambda x: None)\n",
    "\n",
    "while True:\n",
    "    # Trackbar değerini alıyoruz\n",
    "    value = cv2.getTrackbarPos(\"Trackbar\", window_name)\n",
    "\n",
    "    # Buradaki value değerine göre her pikselin değerini ayarlıyoruz.\n",
    "    image[:, :] = [value, 0, 255 - value]\n",
    "\n",
    "    # Görüntüyü pencerede gösteriyoruz\n",
    "    cv2.imshow(window_name, image)\n",
    "\n",
    "    # ESC tuşuna basılırsa döngüden çıkılıyor\n",
    "    if cv2.waitKey(1) == 27:\n",
    "        break\n",
    "\n",
    "cv2.destroyAllWindows()"
   ]
  },
  {
   "cell_type": "code",
   "execution_count": 81,
   "metadata": {},
   "outputs": [],
   "source": [
    "# Burada ise her bir renk kanalı için bir bar oluşturduk. Her bir renk kanalı için buradaki değeri değiştirip resmin rengi \n",
    "# değiştirilebilir\n",
    "\n",
    "\n",
    "\n",
    "image = np.zeros((300, 512, 3), dtype=np.uint8)\n",
    "\n",
    "# Pencere adı\n",
    "window_name = \"Color Trackbars\"\n",
    "\n",
    "# Pencereyi gösteriyoruz.\n",
    "cv2.namedWindow(window_name)\n",
    "\n",
    "# Başlangıç renk kanalı değerleri\n",
    "blue = 0\n",
    "green = 0\n",
    "red = 0\n",
    "\n",
    "# Trackbar'ları oluşturuyoruz.\n",
    "cv2.createTrackbar(\"Blue\", window_name, blue, 255, lambda x: None)\n",
    "cv2.createTrackbar(\"Green\", window_name, green, 255, lambda x: None)\n",
    "cv2.createTrackbar(\"Red\", window_name, red, 255, lambda x: None)\n",
    "\n",
    "while True:\n",
    "    # Trackbar değerlerini alıyoruz \n",
    "    blue = cv2.getTrackbarPos(\"Blue\", window_name)\n",
    "    green = cv2.getTrackbarPos(\"Green\", window_name)\n",
    "    red = cv2.getTrackbarPos(\"Red\", window_name)\n",
    "\n",
    "    \n",
    "    image[:, :] = [blue, green, red]\n",
    "\n",
    "    \n",
    "    cv2.imshow(window_name, image)\n",
    "\n",
    "    # ESC tuşuna basılırsa döngüden çıkılıyor\n",
    "    if cv2.waitKey(1) == 27:\n",
    "        break\n",
    "\n",
    "cv2.destroyAllWindows()"
   ]
  },
  {
   "cell_type": "markdown",
   "metadata": {},
   "source": [
    "# Zaman Ölçümü"
   ]
  },
  {
   "cell_type": "code",
   "execution_count": 82,
   "metadata": {},
   "outputs": [
    {
     "name": "stdout",
     "output_type": "stream",
     "text": [
      "Geçen süre (saniye): 0.1325388\n"
     ]
    }
   ],
   "source": [
    "# Zaman ölçümü yapmak için aşağıdaki fonkisyonları kullanıyoruz.\n",
    "\n",
    "#Başlangıç zamanı\n",
    "start_time = cv2.getTickCount()\n",
    "\n",
    "# Bİr tane uzun sürecek bir işlem\n",
    "for i in range(1000000):\n",
    "    a=i*2\n",
    "\n",
    "# Bitiş zamanı\n",
    "end_time = cv2.getTickCount()\n",
    "\n",
    "# Geçen süre\n",
    "elapsed_time = (end_time - start_time) / cv2.getTickFrequency()\n",
    "\n",
    "print(\"Geçen süre (saniye):\", elapsed_time)"
   ]
  },
  {
   "cell_type": "markdown",
   "metadata": {},
   "source": [
    "# Özellik Çıkarımı"
   ]
  },
  {
   "cell_type": "code",
   "execution_count": 140,
   "metadata": {},
   "outputs": [],
   "source": [
    "# Resimden özellik çıkarma konusunda kullanılan bir algoritma.\n",
    "# Nesne tanıma ve eşleştirme gibi işlemlerde kullanılıyor\n",
    "\n",
    "\n",
    "sift = cv2.xfeatures2d.SIFT_create()\n",
    "\n",
    "image = cv2.imread(\"gta1.jpg\")\n",
    "\n",
    "\n",
    "gray = cv2.cvtColor(image, cv2.COLOR_BGR2GRAY)\n",
    "\n",
    "# Keypoint'leri ve özellikleri çıkarıyoruz resimden\n",
    "keypoints, descriptors = sift.detectAndCompute(gray, None)\n",
    "\n",
    "# Özellikleri çizdiryoruz\n",
    "image_with_keypoints = cv2.drawKeypoints(image, keypoints, outImage=None)\n",
    "\n",
    "\n",
    "cv2.imshow(\"Image\", image)\n",
    "cv2.imshow(\"SIFT Keypoints\", image_with_keypoints)\n",
    "cv2.waitKey(0)\n",
    "cv2.destroyAllWindows()"
   ]
  },
  {
   "cell_type": "markdown",
   "metadata": {},
   "source": [
    "# Histogram"
   ]
  },
  {
   "cell_type": "code",
   "execution_count": 84,
   "metadata": {},
   "outputs": [
    {
     "data": {
      "image/png": "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\n",
      "text/plain": [
       "<Figure size 640x480 with 1 Axes>"
      ]
     },
     "metadata": {},
     "output_type": "display_data"
    }
   ],
   "source": [
    "# Görüntünün histogramını hesaplıyoruz\n",
    "\n",
    "\n",
    "image = cv2.imread(\"gta1.jpg\")\n",
    "gray = cv2.cvtColor(image, cv2.COLOR_BGR2GRAY)\n",
    "\n",
    "# Histogramı hesaplıyoruz\n",
    "hist = cv2.calcHist([gray], [0], None, [256], [0, 256])\n",
    "\n",
    "# Histogramı görselleştirtirmek için  bu kütüphaneyi kullanacağız\n",
    "import matplotlib.pyplot as plt\n",
    "\n",
    "plt.plot(hist)\n",
    "plt.title(\"Histogram\")\n",
    "plt.xlabel(\"Piksel Değeri\")\n",
    "plt.ylabel(\"Piksel Sayısı\")\n",
    "plt.show()\n",
    "\n",
    "\n",
    "cv2.imshow(\"Image\", image)\n",
    "cv2.waitKey(0)\n",
    "cv2.destroyAllWindows()"
   ]
  },
  {
   "cell_type": "markdown",
   "metadata": {},
   "source": [
    "# # Ders 18 Çeşitli Fonksiyonlar 2"
   ]
  },
  {
   "cell_type": "markdown",
   "metadata": {},
   "source": [
    "# Lookup Table"
   ]
  },
  {
   "cell_type": "code",
   "execution_count": 145,
   "metadata": {},
   "outputs": [],
   "source": [
    "#Aşağıdaki kod ile bir dönüşüm işlemi yapıyoruz. Burada oluşturulan table ile piksellerin değerini değiştiriyoruz.\n",
    "# Burada resmin kırmızılığı azaltıldı. Diğer iki kanalın etkisi arttı\n",
    "image = cv2.imread(\"ankara.jpg\")\n",
    "\n",
    "\n",
    "table = np.zeros((256, 1, 3), dtype=np.uint8)\n",
    "\n",
    "\n",
    "# Dönüşüm tablosunu oluşturuyoruz. \n",
    "# Burada hğin, her pikselin mavi ve yeşil bileşenini artırdık\n",
    "for i in range(256):\n",
    "    table[i] = [i, i, 0]\n",
    "\n",
    "# LUT işlemini uyguluyoruz\n",
    "result_image = cv2.LUT(image, table)\n",
    "\n",
    "cv2.imshow(\"Image\", image)\n",
    "cv2.imshow(\"LUT Result\", result_image)\n",
    "cv2.waitKey(0)\n",
    "cv2.destroyAllWindows()"
   ]
  },
  {
   "cell_type": "markdown",
   "metadata": {},
   "source": [
    "# Select ROI"
   ]
  },
  {
   "cell_type": "code",
   "execution_count": 86,
   "metadata": {},
   "outputs": [],
   "source": [
    "# Burada resimden istediğimiz bir bölgeyi seçiyoruz.\n",
    "\n",
    "\n",
    "image = cv2.imread(\"gta1.jpg\")\n",
    "\n",
    "# Seçim penceresini açıp bir bölegeyi seçiyoruz bölgeyi seçtikten sonra enter tuşuna basıyoruz\n",
    "rect = cv2.selectROI(image)\n",
    "\n",
    "# Seçilen bölgeyi yeni bir resim olarak alıyoruz\n",
    "selected_region = image[int(rect[1]):int(rect[1] + rect[3]), int(rect[0]):int(rect[0] + rect[2])]\n",
    "\n",
    "cv2.imshow(\"Selected Region\", selected_region)\n",
    "cv2.waitKey(0)\n",
    "cv2.destroyAllWindows()"
   ]
  },
  {
   "cell_type": "markdown",
   "metadata": {},
   "source": [
    "# Karakalem Efekt"
   ]
  },
  {
   "cell_type": "code",
   "execution_count": 87,
   "metadata": {},
   "outputs": [],
   "source": [
    "image = cv2.imread(\"d.jpg\")\n",
    "\n",
    "# Karakalem efekti oluşturuyoruz.\n",
    "# Bu değerler resme göre değişir\n",
    "pencil_sketch = cv2.pencilSketch(image, sigma_s=60, sigma_r=0.07, shade_factor=0.05)\n",
    "\n",
    "\n",
    "\n",
    "cv2.imshow(\"Image\", image)\n",
    "cv2.imshow(\"Pencil Sketch\", pencil_sketch[0])\n",
    "cv2.waitKey(0)\n",
    "cv2.destroyAllWindows()"
   ]
  },
  {
   "cell_type": "markdown",
   "metadata": {},
   "source": [
    "# Inpaint"
   ]
  },
  {
   "cell_type": "code",
   "execution_count": 88,
   "metadata": {},
   "outputs": [],
   "source": [
    "# Burada resimde bozulmuş alanları yeniden onarabirliz\n",
    "# Benim verdiğim resimde bozuk yer olmadığı için çok iyi çalışmıyor gibi gözükebilir\n",
    "\n",
    "image = cv2.imread(\"gta1.jpg\")\n",
    "\n",
    "gray = cv2.cvtColor(image, cv2.COLOR_BGR2GRAY)\n",
    "\n",
    "mask = np.zeros_like(gray, dtype=np.uint8)\n",
    "mask[100:200, 100:200] = 255  # Eksik bölgenin konumunu girerek bir maske oluşturduk\n",
    "\n",
    "# Eksik bölgeyi maske ile belirterek burayı doldurduk\n",
    "inpainted_image = cv2.inpaint(image, mask, inpaintRadius=3, flags=cv2.INPAINT_TELEA)\n",
    "\n",
    "\n",
    "\n",
    "cv2.imshow(\"Image\", image)\n",
    "cv2.imshow(\"Inpainted\", inpainted_image)\n",
    "cv2.waitKey(0)\n",
    "cv2.destroyAllWindows()"
   ]
  },
  {
   "cell_type": "markdown",
   "metadata": {},
   "source": [
    "# Denoising"
   ]
  },
  {
   "cell_type": "code",
   "execution_count": 89,
   "metadata": {},
   "outputs": [],
   "source": [
    "# Buradaki method ile resimdeki gürültüyü azaltıyoruz\n",
    "image = cv2.imread(\"noise.jpg\")\n",
    "\n",
    "# Gürültüyü azaltmak için kullanılan fonksiyon\n",
    "denoised_image = cv2.fastNlMeansDenoisingColored(image, None, 10, 10, 7, 15)\n",
    "\n",
    "\n",
    "cv2.imshow(\"Noisy Image\", image)\n",
    "cv2.imshow(\"Denoised Image\", denoised_image)\n",
    "cv2.waitKey(0)\n",
    "cv2.destroyAllWindows()"
   ]
  },
  {
   "cell_type": "markdown",
   "metadata": {},
   "source": [
    "# Min Max Points"
   ]
  },
  {
   "cell_type": "code",
   "execution_count": 90,
   "metadata": {},
   "outputs": [
    {
     "name": "stdout",
     "output_type": "stream",
     "text": [
      "Minimum Değer: 0.0\n",
      "Minimum Değer Konumu: (522, 50)\n",
      "Maksimum Değer: 255.0\n",
      "Maksimum Değer Konumu: (523, 51)\n"
     ]
    }
   ],
   "source": [
    "# Resimdeki minimum ve maksimum piksellerin değerini konumunu bulup ekranda gösterebiliriz\n",
    "\n",
    "image = cv2.imread(\"gta1.jpg\")\n",
    "\n",
    "gray = cv2.cvtColor(image, cv2.COLOR_BGR2GRAY)\n",
    "\n",
    "# Görüntü içindeki en düşük ve en yüksek değerleri ve konumları buluyoruz\n",
    "min_val, max_val, min_loc, max_loc = cv2.minMaxLoc(gray)\n",
    "\n",
    "\n",
    "print(\"Minimum Değer:\", min_val)\n",
    "print(\"Minimum Değer Konumu:\", min_loc)\n",
    "\n",
    "\n",
    "print(\"Maksimum Değer:\", max_val)\n",
    "print(\"Maksimum Değer Konumu:\", max_loc)\n",
    "\n",
    "cv2.imshow(\"Image\", image)\n",
    "cv2.waitKey(0)\n",
    "cv2.destroyAllWindows()"
   ]
  },
  {
   "cell_type": "markdown",
   "metadata": {},
   "source": [
    "# Flood Fill"
   ]
  },
  {
   "cell_type": "code",
   "execution_count": 91,
   "metadata": {},
   "outputs": [],
   "source": [
    "\n",
    "# Belirli bir başlangıç pikselinden başlayarak, \n",
    "# benzer renge sahip olan ve bir dizi koşulu karşılayan pikselleri tespit edip bunları isten bir renk ile gösterbiliriz\n",
    "\n",
    "\n",
    "image = cv2.imread(\"gta1.jpg\")\n",
    "\n",
    "# başlangıç noktası\n",
    "start_seed = (100, 100)\n",
    "\n",
    "# Yeni renk, burada mavi\n",
    "new_color = (255, 0, 0)\n",
    "\n",
    "# Eşik değeri\n",
    "thresh = 30\n",
    "\n",
    "# Maske oluşturuyoruz \n",
    "mask = np.zeros((image.shape[0] +2, image.shape[1] + 2), dtype=np.uint8)\n",
    "\n",
    "# Burada resmin kopyasını oluşturduk. Bu şekilde kopyalama yapınca orjinal resim etkilenmiyor.\n",
    "result = image.copy()\n",
    "\n",
    "# Burada başlangıç pikselinden sonra aynı benzer renge sahip pikselleri bulup yeni renk atıyoruz\n",
    "cv2.floodFill(result, mask, start_seed, new_color, (thresh, thresh, thresh), (thresh, thresh, thresh), cv2.FLOODFILL_FIXED_RANGE)\n",
    "\n",
    "\n",
    "cv2.imshow(\"Original Image\", image)\n",
    "cv2.imshow(\"Flood Fill Result\", result)\n",
    "cv2.waitKey(0)\n",
    "cv2.destroyAllWindows()"
   ]
  },
  {
   "cell_type": "markdown",
   "metadata": {},
   "source": [
    "# Detail Enhance"
   ]
  },
  {
   "cell_type": "code",
   "execution_count": 92,
   "metadata": {},
   "outputs": [],
   "source": [
    "# Burada resimdeki detayları vurgulamak için aşağıdaki fonksiyonu kullanıyoruz. \n",
    "#  Bu işlev, özellikle yüksek kontrastlı ve detaylı görüntülerin daha iyi görselleştirilmesi \n",
    "#veya estetik amaçlarla kullanılır.\n",
    "\n",
    "image = cv2.imread(\"rm.jpg\")\n",
    "\n",
    "enhanced_image = cv2.detailEnhance(image, sigma_s=10, sigma_r=0.15)\n",
    "\n",
    "\n",
    "cv2.imshow(\"Original Image\", image)\n",
    "cv2.imshow(\"Enhanced Image\", enhanced_image)\n",
    "cv2.waitKey(0)\n",
    "cv2.destroyAllWindows()"
   ]
  },
  {
   "cell_type": "markdown",
   "metadata": {},
   "source": [
    "# HOG"
   ]
  },
  {
   "cell_type": "code",
   "execution_count": 93,
   "metadata": {},
   "outputs": [],
   "source": [
    "# HOG, nesne tespiti ve nesne sınıflandırma gibi görevler için kullanılan bir özellik vektörüdür\n",
    "\n",
    "\n",
    "image = cv2.imread(\"ronaldoZidane.jpg\")\n",
    "\n",
    "# HOGDescriptor nesnesi oluşturduk\n",
    "hog = cv2.HOGDescriptor()\n",
    "\n",
    "\n",
    "\n",
    "# HOGDescriptor özellik çıkarıcısını insan tespitinde kullanmak için ayarladık\n",
    "hog.setSVMDetector(cv2.HOGDescriptor_getDefaultPeopleDetector())\n",
    "\n",
    "# Resmi modele verdik\n",
    "location, weights = hog.detectMultiScale(image, winStride=(4, 4), padding=(8, 8), scale=1.05)\n",
    "\n",
    "\n",
    "for (x, y, w, h) in location:\n",
    "    cv2.rectangle(image, (x, y), (x + w, y + h), (0, 255, 0), 2)\n",
    "\n",
    "\n",
    "cv2.imshow(\"Object Detection\", image)\n",
    "cv2.waitKey(0)\n",
    "cv2.destroyAllWindows()"
   ]
  },
  {
   "cell_type": "markdown",
   "metadata": {},
   "source": [
    "# Saliency Analizi"
   ]
  },
  {
   "cell_type": "code",
   "execution_count": 132,
   "metadata": {},
   "outputs": [],
   "source": [
    "# Saliency analizi, bir görüntü içindeki önemli nesneleri veya bölgeleri belirlemek için kullanılır.\n",
    "\n",
    "image = cv2.imread(\"city.jpg\")\n",
    "\n",
    "# Saliency analizi işlemi için SaliencyFineGrained nesnesi oluşturuyoruz\n",
    "saliency = cv2.saliency.StaticSaliencyFineGrained_create()\n",
    "\n",
    "# Görüntüye saliency analizini uyguluyoruz\n",
    "saliency_map = saliency.computeSaliency(image)[1]\n",
    "\n",
    "\n",
    "cv2.imshow(\"Original Image\", image)\n",
    "cv2.imshow(\"Saliency Map\", saliency_map)\n",
    "cv2.waitKey(0)\n",
    "cv2.destroyAllWindows()"
   ]
  },
  {
   "cell_type": "markdown",
   "metadata": {},
   "source": [
    "# Blob Detection"
   ]
  },
  {
   "cell_type": "code",
   "execution_count": 95,
   "metadata": {},
   "outputs": [],
   "source": [
    "\n",
    "# Blob tespiti, görüntüdeki farklı boyutlardaki ve parlaklıktaki bölgeleri tespit etmek için kullanılır.\n",
    "# Bloblar, genellikle farklı boyutlarda ve parlaklıklarda olabilen yuvarlak veya oval bölgeleri temsil eder.\n",
    "\n",
    "image = cv2.imread(\"city.jpg\")\n",
    "\n",
    "gray = cv2.cvtColor(image, cv2.COLOR_BGR2GRAY)\n",
    "\n",
    "\n",
    "# SimpleBlobDetector nesnesi oluşturuyoruz\n",
    "blob_detector = cv2.SimpleBlobDetector_create()\n",
    "\n",
    "# Blobları tespit ediyoruz\n",
    "keypoints = blob_detector.detect(gray)\n",
    "\n",
    "# Blobları sarı  çemberler ile görselleştriyoruz.\n",
    "result_image = cv2.drawKeypoints(image, keypoints, np.array([]), (0, 255, 255),\n",
    "                                  cv2.DRAW_MATCHES_FLAGS_DRAW_RICH_KEYPOINTS)\n",
    "\n",
    "cv2.imshow(\"Original Image\", image)\n",
    "cv2.imshow(\"Blob Detection Result\", result_image)\n",
    "cv2.waitKey(0)\n",
    "cv2.destroyAllWindows()"
   ]
  },
  {
   "cell_type": "markdown",
   "metadata": {},
   "source": [
    "# Projeler"
   ]
  },
  {
   "cell_type": "markdown",
   "metadata": {},
   "source": [
    "# Resimdeki Köşeleri Bulma"
   ]
  },
  {
   "cell_type": "code",
   "execution_count": 96,
   "metadata": {},
   "outputs": [],
   "source": [
    "image=cv2.imread('satranc.jpg')\n",
    "gri=cv2.cvtColor(image,cv2.COLOR_BGR2GRAY)\n",
    "gri=np.float32(gri)\n",
    "koseler=cv2.goodFeaturesToTrack(gri,100,0.01,10)\n",
    "koseler=np.int0(koseler)\n",
    "for kose in koseler:\n",
    "    x,y=kose.ravel()\n",
    "    cv2.circle(image,(x,y),3,(255,0,255),-1)\n",
    "cv2.imshow('Fotograf',image)  \n",
    "cv2.waitKey(0)  \n",
    "cv2.destroyAllWindows() "
   ]
  },
  {
   "cell_type": "markdown",
   "metadata": {},
   "source": [
    "# Yüz Tespiti"
   ]
  },
  {
   "cell_type": "code",
   "execution_count": 131,
   "metadata": {},
   "outputs": [],
   "source": [
    "\n",
    "image=cv2.imread('messi.jpg')\n",
    "\n",
    "    \n",
    "image=cv2.resize(image,(800,800)) # bu değeri kendim atadım resim. Bir önemi yok\n",
    "yuz=cv2.CascadeClassifier(\"haarcascade_frontalface_default.xml\")\n",
    "gri=cv2.cvtColor(image,cv2.COLOR_BGR2GRAY)\n",
    "yuzler=yuz.detectMultiScale(gri,1.1,4)\n",
    "    \n",
    "for (x,y,w,h,) in yuzler:\n",
    "    \n",
    "        \n",
    "    cv2.rectangle(image,(x,y),(x+w,y+h),(255,0,0),2)\n",
    "\n",
    "cv2.imshow(\"kamera\",image)\n",
    "     \n",
    "cv2.waitKey(0)\n",
    "cv2.destroyAllWindows()"
   ]
  },
  {
   "cell_type": "markdown",
   "metadata": {},
   "source": [
    "# Yüz Tespiti Video İçin"
   ]
  },
  {
   "cell_type": "code",
   "execution_count": 98,
   "metadata": {},
   "outputs": [],
   "source": [
    "kamera= cv2.VideoCapture(0)\n",
    "yuz=cv2.CascadeClassifier(\"haarcascade_frontalface_default.xml\")\n",
    "while True:\n",
    "    ret,kare=kamera.read()\n",
    "   \n",
    "    \n",
    "    gri=cv2.cvtColor(kare,cv2.COLOR_BGR2GRAY)\n",
    "    yuzler=yuz.detectMultiScale(gri,1.1,4)\n",
    "    \n",
    "    for (x,y,w,h,) in yuzler:\n",
    "        \n",
    "        cv2.rectangle(kare,(x,y),(x+w,y+h),(255,0,0),2)\n",
    "\n",
    "    cv2.imshow(\"kamera\",kare)\n",
    "    if cv2.waitKey(1) & 0xFF == ord('q'):\n",
    "        break\n",
    "kamera.release()\n",
    "cv2.destroyAllWindows()\n"
   ]
  },
  {
   "cell_type": "markdown",
   "metadata": {},
   "source": [
    "# Yüz Tespiti Ve Göz Tespiti"
   ]
  },
  {
   "cell_type": "code",
   "execution_count": 99,
   "metadata": {},
   "outputs": [],
   "source": [
    "kamera= cv2.VideoCapture(0)\n",
    "\n",
    "while True:\n",
    "    ret,kare=kamera.read()\n",
    "  \n",
    "    \n",
    "    yuz=cv2.CascadeClassifier(\"haarcascade_frontalface_default.xml\")\n",
    "    goz=cv2.CascadeClassifier(\"haarcascade_eye.xml\")\n",
    "    gri=cv2.cvtColor(kare,cv2.COLOR_BGR2GRAY)\n",
    "    yuzler=yuz.detectMultiScale(gri,1.1,4)\n",
    "    \n",
    "    for (x,y,w,h,) in yuzler:\n",
    "        yeni=kare[y:y+h//2,x:x+w]\n",
    "        gri_yeni=cv2.cvtColor(yeni,cv2.COLOR_BGR2GRAY)\n",
    "        gozler=goz.detectMultiScale(gri_yeni,1.1,4)\n",
    "        cv2.rectangle(kare,(x,y),(x+w,y+h),(255,0,0),2)\n",
    "        for (a,b,c,d) in gozler:\n",
    "            cv2.rectangle(yeni,(a,b),(a+c,b+d),(0,255,0),2)\n",
    "\n",
    "    cv2.imshow(\"kamera\",kare)\n",
    "    \n",
    "    if cv2.waitKey(25) & 0xFF == ord('q'):\n",
    "        break\n",
    "    \n",
    "    \n",
    "kamera.release()\n",
    "cv2.destroyAllWindows()\n"
   ]
  },
  {
   "cell_type": "markdown",
   "metadata": {},
   "source": [
    "# Videodan Arka Plan Çıkarma"
   ]
  },
  {
   "cell_type": "code",
   "execution_count": 100,
   "metadata": {},
   "outputs": [],
   "source": [
    "# Videodaki arka planı çıkarabiliriz.\n",
    "# Çok da iyi çaşışmıyor bu arada\n",
    "\n",
    "# Arka planı çıkarıken kullanacağımız algoritma\n",
    "background_subtractor = cv2.bgsegm.createBackgroundSubtractorMOG()\n",
    "\n",
    "cap = cv2.VideoCapture(0)\n",
    "\n",
    "while True:\n",
    "    ret, frame = cap.read()\n",
    "    if not ret:\n",
    "        break\n",
    "\n",
    "    # Arka planı çıkarıyoruz\n",
    "    fg_mask = background_subtractor.apply(frame)\n",
    "\n",
    "    \n",
    "    cv2.imshow(\"Foreground Mask\", fg_mask)\n",
    "\n",
    "    \n",
    "    cv2.imshow(\"Original Video\", frame)\n",
    "\n",
    "    if cv2.waitKey(25) & 0xFF == ord('q'):\n",
    "        break\n",
    "\n",
    "cap.release()\n",
    "cv2.destroyAllWindows()"
   ]
  },
  {
   "cell_type": "markdown",
   "metadata": {},
   "source": [
    "# Resimdeki Baskın Rengi Bulma"
   ]
  },
  {
   "cell_type": "code",
   "execution_count": 101,
   "metadata": {},
   "outputs": [
    {
     "name": "stdout",
     "output_type": "stream",
     "text": [
      "[ 52.590263 191.84535  145.2894  ]\n"
     ]
    }
   ],
   "source": [
    "def getdcolor(img):\n",
    "    pixels = np.float32(img.reshape(-1, 3))\n",
    "\n",
    "    n_colors = 5\n",
    "    criteria = (cv2.TERM_CRITERIA_EPS + cv2.TERM_CRITERIA_MAX_ITER, 200, .1)\n",
    "    flags = cv2.KMEANS_RANDOM_CENTERS\n",
    "\n",
    "    _, labels, palette = cv2.kmeans(pixels, n_colors, None, criteria, 10, flags)\n",
    "    _, counts = np.unique(labels, return_counts=True)\n",
    "\n",
    "\n",
    "    \n",
    "    dominant = palette[np.argmax(counts)]\n",
    "    \n",
    "    return dominant\n",
    "\n",
    "\n",
    "\n",
    "\n",
    "image=cv2.imread(\"erik.jpg\")\n",
    "color=getdcolor(image)\n",
    "print(color) # Resimdeki en baskın rengin BGR değerleri\n",
    "cv2.imshow(\"Resim\",image)\n",
    "\n",
    "cv2.waitKey()\n",
    "cv2.destroyAllWindows()\n"
   ]
  },
  {
   "cell_type": "markdown",
   "metadata": {},
   "source": [
    "# Resimdeki İstenen Rengi Bulup Kare İçine Alma"
   ]
  },
  {
   "cell_type": "code",
   "execution_count": 103,
   "metadata": {},
   "outputs": [],
   "source": [
    "image=cv2.imread('kiraz.jpg')\n",
    "\n",
    "image=cv2.resize(image,(800,800))\n",
    "\n",
    "\n",
    "hsv_img = cv2.cvtColor(image, cv2.COLOR_BGR2HSV)\n",
    "# kırmızı renk için HSV değerleri\n",
    "low_red=np.array([170, 50, 70])\n",
    "high_red=np.array([180, 255, 255])\n",
    " \n",
    "\n",
    "mask = cv2.inRange(hsv_img, low_red, high_red)\n",
    "mask = cv2.erode(mask,None,iterations=2)\n",
    "mask = cv2.dilate(mask,None,iterations=2)\n",
    "mask = cv2.GaussianBlur(mask, (3, 3), 0)\n",
    "cnts = cv2.findContours(mask.copy(), cv2.RETR_EXTERNAL, \n",
    "                        cv2.CHAIN_APPROX_SIMPLE)[-2]\n",
    "\n",
    "\n",
    "for cnt in cnts:\n",
    "    (x, y, w, h) = cv2.boundingRect(cnt)\n",
    "    \n",
    "    if w>100:   # resimdeki küçük yerleri tespit etmesin diye. Bu değer resimden resime değişir\n",
    "        cv2.rectangle(image,(x,y),(x+w,y+h),(0,255,0),4)\n",
    "\n",
    "\n",
    "cv2.imshow(\"Resim\",image)\n",
    "cv2.waitKey(0)\n",
    "cv2.destroyAllWindows()"
   ]
  },
  {
   "cell_type": "markdown",
   "metadata": {},
   "source": [
    "# Resmi Cartoon Haline Getirme"
   ]
  },
  {
   "cell_type": "markdown",
   "metadata": {},
   "source": [
    "Bu çok iyi çalışmıyor. Fakat gene de eklemek istedim"
   ]
  },
  {
   "cell_type": "code",
   "execution_count": 104,
   "metadata": {},
   "outputs": [],
   "source": [
    "\n",
    "image = cv2.imread(\"d.jpg\")\n",
    "   \n",
    "\n",
    "gray = cv2.cvtColor(image, cv2.COLOR_BGR2GRAY)\n",
    "gray = cv2.medianBlur(gray, 5)\n",
    "edges = cv2.adaptiveThreshold(gray, 255, cv2.ADAPTIVE_THRESH_MEAN_C, \n",
    "                                         cv2.THRESH_BINARY, 9,9)\n",
    "\n",
    "\n",
    "\n",
    "\n",
    "color = cv2.bilateralFilter(image, 9, 250, 250)\n",
    "\n",
    "cartoon = cv2.bitwise_and(color, color, mask=edges)\n",
    "\n",
    "   \n",
    "   \n",
    "cv2.imshow(\"Image\", image)\n",
    "cv2.imshow(\"Cartoon\", cartoon)\n",
    "\n",
    "cv2.waitKey(0)\n",
    "cv2.destroyAllWindows()"
   ]
  },
  {
   "cell_type": "markdown",
   "metadata": {},
   "source": [
    "# Resmi Mozaikleştirme"
   ]
  },
  {
   "cell_type": "code",
   "execution_count": 115,
   "metadata": {},
   "outputs": [],
   "source": [
    "\n",
    "\n",
    "\n",
    "image = cv2.imread ( \"istanbul.jpg\" ) \n",
    "#image=cv2.resize(image,(800,800))\n",
    "slic = cv2.ximgproc.createSuperpixelSLIC ( image , region_size = 10 )  \n",
    "slic.iterate ( 10 )      \n",
    "mask_slic = slic.getLabelContourMask ( )\n",
    "\n",
    "mask_inv_slic = cv2.bitwise_not ( mask_slic )   \n",
    "\n",
    "img_slic = cv2.bitwise_and ( image , image , mask =  mask_inv_slic )\n",
    "cv2.imshow ( \"img_slic\" , img_slic ) \n",
    "\n",
    "cv2.waitKey ( ) \n",
    "cv2.destroyAllWindows()\n"
   ]
  },
  {
   "cell_type": "markdown",
   "metadata": {},
   "source": [
    "# Videoyu Tersten Oynatma"
   ]
  },
  {
   "cell_type": "code",
   "execution_count": 106,
   "metadata": {},
   "outputs": [
    {
     "name": "stdout",
     "output_type": "stream",
     "text": [
      "Video hazırlanıyor\n",
      "Yeni video oluşturuluyor\n",
      
     ]
    }
   ],
   "source": [
    "kamera= cv2.VideoCapture('test.mp4')\n",
    "\n",
    "x=cv2.VideoWriter_fourcc(*\"XVID\") \n",
    "#Buradaki boyut video ile aynı olmalı\n",
    "out=cv2.VideoWriter('ters.mp4',x,30,(1280,720)) \n",
    "ret= True\n",
    "frame_list=[]\n",
    "print('Video hazırlanıyor')\n",
    "while ret:\n",
    "    ret,kare=kamera.read() \n",
    "    \n",
    "    if ret:\n",
    "        frame_list.append(kare)\n",
    "b=len(frame_list)\n",
    "print('Yeni video oluşturuluyor')\n",
    "for i in range(b):\n",
    "    yeni=frame_list[b-i-1]\n",
    "    out.write(yeni)\n",
    "    print('Frame:', i)\n",
    "out.release()\n",
    "kamera.release() \n",
    "cv2.destroyAllWindows()"
   ]
  },
  {
   "cell_type": "markdown",
   "metadata": {},
   "source": [
    "# Yolov4 İle Nesne Tespiti"
   ]
  },
  {
   "cell_type": "code",
   "execution_count": 109,
   "metadata": {},
   "outputs": [],
   "source": [
    "\n",
    "image = cv2.imread(\"nesne.jpg\")\n",
    "image=cv2.resize(image,(600,600))\n",
    "\n",
    "\n",
    "net = cv2.dnn.readNet(\"yolov4.weights\", \"yolov4.cfg\")\n",
    "classes = []\n",
    "with open(\"coco.names\", \"r\") as f:\n",
    "    classes = [line.strip() for line in f.readlines()]\n",
    "layer_names = net.getLayerNames()\n",
    "output_layers = [layer_names[i - 1] for i in net.getUnconnectedOutLayers()]\n",
    "colors = np.random.uniform(0, 255, size=(len(classes), 3))\n",
    "\n",
    "\n",
    "\n",
    "height, width, channels = image.shape\n",
    "\n",
    "\n",
    "blob = cv2.dnn.blobFromImage(image, 0.00392, (416, 416), (0, 0, 0), True, crop=False)\n",
    "net.setInput(blob)\n",
    "outs = net.forward(output_layers)\n",
    "\n",
    "\n",
    "\n",
    "\n",
    "class_ids = []\n",
    "confidences = []\n",
    "boxes = []\n",
    "for out in outs:\n",
    "    for detection in out:\n",
    "        scores = detection[5:]\n",
    "        class_id = np.argmax(scores)\n",
    "        confidence = scores[class_id]\n",
    "        if confidence > 0.8:  # bu oran fazla olabilir. İdeal sayıya resminize göre bulabilirsiniz\n",
    "            \n",
    "            center_x = int(detection[0] * width)\n",
    "            center_y = int(detection[1] * height)\n",
    "            w = int(detection[2] * width)\n",
    "            h = int(detection[3] * height)\n",
    "            \n",
    "            x = int(center_x - w / 2)\n",
    "            y = int(center_y - h / 2)\n",
    "            boxes.append([x, y, w, h])\n",
    "            confidences.append(float(confidence))\n",
    "            class_ids.append(class_id)\n",
    "            \n",
    "\n",
    "\n",
    "indexes = cv2.dnn.NMSBoxes(boxes, confidences, 0.5, 0.4)\n",
    "\n",
    "\n",
    "\n",
    "font = cv2.FONT_HERSHEY_SIMPLEX\n",
    "for i in range(len(boxes)):\n",
    "    if i in indexes:\n",
    "        x, y, w, h = boxes[i]\n",
    "        label = str(classes[class_ids[i]])\n",
    "        #color = colors[i]\n",
    "        color=(102,0,153)\n",
    "\n",
    "\n",
    "            \n",
    "        cv2.rectangle(image, (x, y), (x + w, y + h), color, 2)\n",
    "            \n",
    "        cv2.putText(image, label, (x, y ), font, 1, color, 2)\n",
    "      \n",
    "cv2.imshow(\"Image\", image)\n",
    "\n",
    "\n",
    "cv2.waitKey(0)\n",
    "cv2.destroyAllWindows()"
   ]
  },
  {
   "cell_type": "markdown",
   "metadata": {},
   "source": [
    "# Yolov8 İle Nesne Tespiti"
   ]
  },
  {
   "cell_type": "markdown",
   "metadata": {},
   "source": [
    "Kullancağımız diğer bir kütüphanenin kurulumunu yapıyoruz. Sizde kurulu ise aşağıdaki kodu çalıştırmaya gerek yok"
   ]
  },
  {
   "cell_type": "code",
   "execution_count": null,
   "metadata": {},
   "outputs": [],
   "source": [
    "!pip install ultralytics"
   ]
  },
  {
   "cell_type": "code",
   "execution_count": 110,
   "metadata": {},
   "outputs": [],
   "source": [
    "from ultralytics import YOLO\n",
    "# Burada kullanacağımız modeli seçiyoruz.\n",
    "model= YOLO(\"yolov8l.pt\")"
   ]
  },
  {
   "cell_type": "code",
   "execution_count": 111,
   "metadata": {},
   "outputs": [],
   "source": [
    "# Modelin tespit edebileceği sınıflar\n",
    "labels=[ 'person', 'bicycle', 'car', 'motorcycle', 'airplane', 'bus', 'train', 'truck', 'boat', 'traffic light',\n",
    "         'fire hydrant', 'stop sign', 'parking meter', 'bench', 'bird', 'cat', 'dog', 'horse', 'sheep', 'cow',\n",
    "         'elephant', 'bear', 'zebra', 'giraffe', 'backpack', 'umbrella', 'handbag', 'tie', 'suitcase', 'frisbee',\n",
    "         'skis', 'snowboard', 'sports ball', 'kite', 'baseball bat', 'baseball glove', 'skateboard', 'surfboard',\n",
    "         'tennis racket', 'bottle', 'wine glass', 'cup', 'fork', 'knife', 'spoon', 'bowl', 'banana', 'apple',\n",
    "         'sandwich', 'orange', 'broccoli', 'carrot', 'hot dog', 'pizza', 'donut', 'cake', 'chair', 'couch',\n",
    "         'potted plant', 'bed', 'dining table', 'toilet', 'tv', 'laptop', 'mouse', 'remote', 'keyboard', 'cell phone',\n",
    "         'microwave', 'oven', 'toaster', 'sink', 'refrigerator', 'book', 'clock', 'vase', 'scissors', 'teddy bear',\n",
    "         'hair drier', 'toothbrush' ]"
   ]
  },
  {
   "cell_type": "markdown",
   "metadata": {},
   "source": [
    "Resimler için nesne tespiti"
   ]
  },
  {
   "cell_type": "code",
   "execution_count": 129,
   "metadata": {},
   "outputs": [],
   "source": [
    "img=cv2.imread('image4.jpg')\n",
    "\n",
    "font = cv2.FONT_HERSHEY_SIMPLEX\n",
    "\n",
    "rgb_img=cv2.cvtColor(img,cv2.COLOR_BGR2RGB)\n",
    "results = model(rgb_img,verbose=False) \n",
    "\n",
    "# İstersek sınıfları böyle modelin içinden de alabilriz\n",
    "#labels=results[0].names\n",
    "\n",
    "for i in range(len(results[0].boxes)):\n",
    "    x1,y1,x2,y2=results[0].boxes.xyxy[i]\n",
    "    score=results[0].boxes.conf[i]\n",
    "    label=results[0].boxes.cls[i]\n",
    "    x1,y1,x2,y2,score,label=int(x1),int(y1),int(x2),int(y2),float(score),int(label)\n",
    "    name=labels[label]\n",
    "    if score<0.5: # Bu threshold değeri \n",
    "        continue\n",
    "    cv2.rectangle(img,(x1,y1),(x2,y2),(255,0,0),3)\n",
    "    text=name+\" \" + str(format(score, '.2f'))\n",
    "    cv2.putText(img,text ,(x1, y1-10), font, 1.2, (255,255,255), 2)\n",
    "cv2.imshow(\"Camera\",img)\n",
    "\n",
    "cv2.waitKey()\n",
    "cv2.destroyAllWindows()"
   ]
  },
  {
   "cell_type": "markdown",
   "metadata": {},
   "source": [
    "Video için Nesne Tespiti"
   ]
  },
  {
   "cell_type": "code",
   "execution_count": 127,
   "metadata": {},
   "outputs": [],
   "source": [
    "font = cv2.FONT_HERSHEY_SIMPLEX\n",
    "kamera= cv2.VideoCapture(0)\n",
    "\n",
    "while True:\n",
    "    ret,frame=kamera.read()\n",
    "    rgb_img=cv2.cvtColor(frame,cv2.COLOR_BGR2RGB)\n",
    "    results = model(rgb_img,verbose=False) \n",
    "    labels=results[0].names\n",
    "\n",
    "    for i in range(len(results[0].boxes)):\n",
    "        x1,y1,x2,y2=results[0].boxes.xyxy[i]\n",
    "        score=results[0].boxes.conf[i]\n",
    "        label=results[0].boxes.cls[i]\n",
    "        x1,y1,x2,y2,score,label=int(x1),int(y1),int(x2),int(y2),float(score),int(label)\n",
    "        name=labels[label]\n",
    "        if score<0.5:\n",
    "            continue\n",
    "        cv2.rectangle(frame,(x1,y1),(x2,y2),(255,0,0),2)\n",
    "        text=name+\" \" + str(format(score, '.2f'))\n",
    "        cv2.putText(frame,text ,(x1, y1-10), font, 1.2, (102,0,153), 2)\n",
    "\n",
    "    cv2.imshow(\"Camera\",frame)\n",
    "    if cv2.waitKey(1) & 0xFF == ord('q'):\n",
    "        break\n",
    "kamera.release()\n",
    "\n",
    "cv2.destroyAllWindows()"
   ]
  }
 ],
 "metadata": {
  "kernelspec": {
   "display_name": "Python 3 (ipykernel)",
   "language": "python",
   "name": "python3"
  },
  "language_info": {
   "codemirror_mode": {
    "name": "ipython",
    "version": 3
   },
   "file_extension": ".py",
   "mimetype": "text/x-python",
   "name": "python",
   "nbconvert_exporter": "python",
   "pygments_lexer": "ipython3",
   "version": "3.9.13"
  }
 },
 "nbformat": 4,
 "nbformat_minor": 2
}
